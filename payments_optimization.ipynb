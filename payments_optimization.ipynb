{
 "cells": [
  {
   "cell_type": "markdown",
   "id": "29352ba2-e402-4679-b8fa-641d078ecc23",
   "metadata": {
    "id": "29352ba2-e402-4679-b8fa-641d078ecc23"
   },
   "source": [
    "# Построение ML-продукта для выявления и оптимизации платежей преподавателей сервиса Repetit.ru\n",
    "\n",
    "**Описание проекта**\n",
    "\n",
    "Сервис передает контакты клиента (ученика) репетитору.  \n",
    "Если репетитор начинает заниматься с учеником, то он должен платить сервису комиссию от каждого занятия.  \n",
    "Но в реальности так происходит не всегда. Иногда, это из-за того, что репетитор звонит по телефону и ему просто не отвечают.  \n",
    "Некоторые репетиторы плохо договариваются о занятиях или обманывают.  \n",
    "Сервис теряет деньги каждый раз, когда отдаёт заявку неэффективному репетитору.  \n",
    "Заказчику нужно как можно раньше понять, что репетитор недобросовестный или мошенник,  \n",
    "чтобы отключить его от сервиса и отдавать заявки ответственным репетиторам.\n",
    "\n",
    "Сейчас эта задача решается ручным просмотром сотрудниками или никак.\n",
    "\n",
    "**Задачи:**\n",
    "- Разработать модель, которая по имеющейся информации о репетиторе и проведенных им занятий\n",
    "  <br>будет классифицировать репетиторов на платящих и неэффективных.\n",
    "- Оценка качества модели будет производиться с использованием метрики F1.\n",
    "\n",
    "\n",
    "**Признаки обмана, выявленные при ручной проверке**\n",
    "\n",
    "Заказчик произвел ручную проверку репетиторов на предмет мошенничества (звонки клиентам и так далее).  \n",
    "Выяснилось, что 20% обманывают нас так или иначе.\n",
    "- Несоответствие цены в заявке, в анкете репетитора и реальной\n",
    "- 1 занятие на ученика (соотношение к общему кол-ву занятий)\n",
    "- Разная стоимость с разными учениками\n",
    "- Разная стоимость уроков с одним учеником\n",
    "- Стоят занятия в расписании, а оплат нет\n",
    "- Когда у репетитора по разным ученикам оплаты рядом по времени, то он сам оплачивает\n",
    "- Как часто заходит в приложение - если редко, то сам оплачивает\n",
    "- Статус заявки договорились о занятиях, оплат нет более недели (и не перенесено)\n",
    "  - status в orders = 9\n",
    "  - lessons с amount_payed > 0 за последнюю неделю\n",
    "- Ученик не отмечен как завершенный, а оплат нет\n",
    "  - В качестве примера, есть SQL запрос позволяющий получить данную информацию\n",
    "- Репетитор отчитался, что провёл платное занятие, оплаты нет\n",
    "  - В качестве примера, есть SQL запрос позволяющий получить данную информацию\n",
    "- Цена ниже 500 р. в регионах, ниже 700 в мск\n",
    "\n",
    "\n",
    "**Описание данных**\n",
    "\n",
    "Информация о репетиторах (teacher_info.feather)\n",
    "\n",
    "`id` - айди репетитора  \n",
    "`reg_date` - дата регистрации  \n",
    "`birth_date` - дата рождения  \n",
    "`teaching_start_date` - дата начала первого занятия  \n",
    "`is_email_confirmed` - подтвержден ли e-mail адресс  \n",
    "`lesson_duration` - продолжит урока  \n",
    "`lesson_cost` - стоимость урока  \n",
    "`is_display` - показывается в каталоге  \n",
    "`last_visited` - послеждний визит  \n",
    "`is_pupils_needed` - открыт для заявок  \n",
    "`is_cell_phone_confirmed` - подтвержден ли номер телефона  \n",
    "`area_id` - регион  \n",
    "`sex` - пол  \n",
    "`orders_allowed` - разрешено назначать на заявки  \n",
    "`review_num` - отзывы  \n",
    "\n",
    "\n",
    "Статистика по репетиторам и таргет (teachers.feather)\n",
    "\n",
    "`id` - айди репетитора  \n",
    "`lessons_delivered` - поставлено уроков  \n",
    "`mean_lesson_price` - средняя стоимость уроков  \n",
    "`lessons_given` - оплачено уроков  \n",
    "`lessons_started_fraction` - процент начала занятий  \n",
    "`lessons_per_pupil` - занятий на ученика  \n",
    "`money_recieved` - получено денег  \n",
    "`blocked` - целевой признак (active/blocked)  \n",
    "\n",
    "Ученики (lesson_course.feather)\n",
    "\n",
    "`Id` - айди  \n",
    "`client_id` - айди ученика  \n",
    "`teacher_id` - айди репетитора  \n",
    "`order_id` - айди заявки  \n",
    "`lesson_place` - занятия онлайн или офлайн  \n",
    "`lesson_price` - цена  \n",
    "`is_active` - идут ли занятия, на паузе, завершены  \n",
    "`lesson_duration` - продолжительность урока  \n",
    "`date_updated`  \n",
    "`suspend_till_date`  \n",
    "\n",
    "Занятия (lessons.feather)\n",
    "\n",
    "`Id` - айди  \n",
    "`lesson_course_id` - айди ученика  \n",
    "`lesson_date` - дата  \n",
    "`time_from` - время от  \n",
    "`time_to` - время до  \n",
    "`home_task` - дз  \n",
    "`is_regular` - автоматически повторяющееся занятие  \n",
    "`amount_to_pay` - стоимость  \n",
    "`amount_paid` - оплачено  \n",
    "\n",
    "Цены на занятия репетиторов (teacher_prices.feather)\n",
    "\n",
    "`date_update` - дата обновления цен  \n",
    "`teacher_id` - айди репетитора  \n",
    "`subject_id` - айди предмета  \n",
    "`price` - цена занятий у себя  \n",
    "`price_external` - цена занятий на выезде  \n",
    "`price_remote` - цена онлайн занятий  \n",
    "\n",
    "Заявки (orders.feather)\n",
    "\n",
    "`order_date` - дата создания  \n",
    "`subject_id` - предмет  \n",
    "`purpose` - цель занятий  \n",
    "`lesson_price` - цена  \n",
    "`lesson_duration` - желаемая проодолжительность урока  \n",
    "`home_metro_id` - ближайшее метро  \n",
    "`add_info` - доп инфо  \n",
    "`start_date`  \n",
    "`working_teacher_id`  \n",
    "`status_id` - оплачена ли заявка (значения 6 и 13 говорят о факте оплаты заявки)  \n",
    "`comments`  \n",
    "`amount_to_pay`\n",
    "`planned_lesson_number` - клиент планирует N занятий  \n",
    "`first_lesson_date` - дата 1 занятия  \n",
    "`creator_id` - кто создал заявку (id сотрудника или клиента)  \n",
    "`pupil_category_new_id` - возраст ученика  \n",
    "`lessons_per_week` - занятий а неделю  \n",
    "`minimal_price`  \n",
    "`teacher_sex` - пол репетитора  \n",
    "`teacher_experience_from` - опыт репетитора от  \n",
    "`teacher_experience_to` - опыт репетитора до  \n",
    "`lesson_place_new` - онлайн, у ученика, у учителя  \n",
    "`pupil_knowledgelvl` -уровень знаний ученика  \n",
    "`teacher_age_from` - желаемый возраст репеитора от  \n",
    "`teacher_age_to` - желаемый возраст репеитора от  \n",
    "`chosen_teachers_only` - не предлагать репетиторов кроме выбранных самостоятельно  \n",
    "`no_teachers_available` - на заявку нет подходящих репов  \n",
    "`source_id` - где создана заявка (какая часть сайта, не регион)  \n",
    "`original_order_id` - дублем какой заявки является эта заявка  \n",
    "`client_id` - айди клиента  \n",
    "`additional_status_id`  \n",
    "`max_metro_distance` - максимально готов ехать от метро  \n",
    "`estimated_fee`  \n",
    "`payment_date`  \n",
    "`test_group` - аб тесты  \n",
    "`is_display_to_teachers` - хочет ли клиент получать отклики репетиторов\n",
    "\n",
    "**Ход исследования**\n",
    "\n",
    "- загрузка данных и ознакомление с ними,\n",
    "- EDA,\n",
    "- создание новых признаков,\n",
    "- отбор финального набора обучающих признаков,\n",
    "- подготовка данных для обучения,\n",
    "- выбор и обучение моделей,\n",
    "- оценка качества предсказания лучшей модели на тестовой выборке,\n",
    "- анализ важности признаков лучшей модели,\n",
    "- отчёт по проведённому исследованию."
   ]
  },
  {
   "cell_type": "markdown",
   "id": "23c190ed-85c5-46aa-a0c5-fe2d409d26f5",
   "metadata": {
    "id": "23c190ed-85c5-46aa-a0c5-fe2d409d26f5"
   },
   "source": [
    "## Настройка рабочей среды"
   ]
  },
  {
   "cell_type": "code",
   "execution_count": 6,
   "id": "19e0037c-d9d5-4477-aca0-1174d339e6be",
   "metadata": {
    "id": "19e0037c-d9d5-4477-aca0-1174d339e6be"
   },
   "outputs": [],
   "source": [
    "# !pip install pandas\n",
    "# !pip install pyarrow\n",
    "# !pip install seaborn\n",
    "# !pip install scikit-learn\n",
    "# !pip install python-dotenv\n",
    "# !pip install psycopg2-binary\n",
    "# !pip install sqlalchemy\n",
    "\n",
    "# !pip install phik\n",
    "# !pip install catboost"
   ]
  },
  {
   "cell_type": "code",
   "execution_count": 1,
   "id": "7e27366c-93bb-4ba3-8447-e1ef90c16502",
   "metadata": {
    "id": "7e27366c-93bb-4ba3-8447-e1ef90c16502"
   },
   "outputs": [],
   "source": [
    "import os\n",
    "# import sys\n",
    "import pandas as pd\n",
    "import seaborn as sns\n",
    "import psycopg2 as psycopg\n",
    "from dotenv import load_dotenv\n",
    "import matplotlib.pyplot as plt\n",
    "\n",
    "# библиотека для отбора важности признаков\n",
    "# from sklearn.inspection import permutation_importance\n",
    "\n",
    "# не нужные библиотеки\n",
    "# from sqlalchemy import create_engine, MetaData"
   ]
  },
  {
   "cell_type": "markdown",
   "id": "5d29a716-d388-4ec9-bee4-90296166bde9",
   "metadata": {
    "id": "5d29a716-d388-4ec9-bee4-90296166bde9"
   },
   "source": [
    "Установка констант"
   ]
  },
  {
   "cell_type": "code",
   "execution_count": 2,
   "id": "02c2f95a-b3ab-4acf-97ef-5aa7e4f4dea8",
   "metadata": {
    "id": "02c2f95a-b3ab-4acf-97ef-5aa7e4f4dea8"
   },
   "outputs": [],
   "source": [
    "load_dotenv()\n",
    "postgres_credentials = {\n",
    "    \"host\": os.getenv(\"DB_HOST\"),\n",
    "    \"port\": os.getenv(\"DB_PORT\"),\n",
    "    \"dbname\": os.getenv(\"DB_NAME\"),\n",
    "    \"user\": os.getenv(\"DB_USERNAME\"),\n",
    "    \"password\": os.getenv(\"DB_PASSWORD\"),\n",
    "}\n",
    "teacher_prices_path = 'data/teacher_prices.feather'\n",
    "teachers_info_path = 'data/teachers_info.feather'\n",
    "lesson_course_path = 'data/lesson_course.feather'\n",
    "teachers_path = 'data/teachers.feather'\n",
    "lessons_path = 'data/lessons.feather'\n",
    "orders_path = 'data/orders.feather'\n",
    "RANDOM_STATE = 42"
   ]
  },
  {
   "cell_type": "markdown",
   "id": "AZ-sLQLs36Vm",
   "metadata": {
    "id": "AZ-sLQLs36Vm"
   },
   "source": [
    "Импорт исследовательского класса"
   ]
  },
  {
   "cell_type": "code",
   "execution_count": 3,
   "id": "7Po52gpT3178",
   "metadata": {
    "id": "7Po52gpT3178"
   },
   "outputs": [],
   "source": [
    "try:\n",
    "    from research_class import DatasetExplorer\n",
    "except:\n",
    "    from google.colab import userdata\n",
    "    from google.colab import drive\n",
    "    drive.mount('/content/drive')\n",
    "    sys.path.append(userdata.get('my_module'))\n",
    "    import research_class\n",
    "    research_class.DatasetExplorer"
   ]
  },
  {
   "cell_type": "markdown",
   "id": "a52f741b-5186-4f38-8c50-af94503b9f11",
   "metadata": {
    "id": "a52f741b-5186-4f38-8c50-af94503b9f11"
   },
   "source": [
    "## Загрузка данных"
   ]
  },
  {
   "cell_type": "code",
   "execution_count": 7,
   "id": "2e87c77e-51a2-4ca3-adcc-50af59faca21",
   "metadata": {
    "colab": {
     "base_uri": "https://localhost:8080/"
    },
    "id": "2e87c77e-51a2-4ca3-adcc-50af59faca21",
    "outputId": "b4c0fc6e-eb30-4786-f87a-d21eb6cf7d51"
   },
   "outputs": [
    {
     "name": "stdout",
     "output_type": "stream",
     "text": [
      "загружено из директории \"data\"\n"
     ]
    }
   ],
   "source": [
    "try:\n",
    "    # teacher_prices = pd.read_feather(teacher_prices_path)\n",
    "    # teachers_info = pd.read_feather(teachers_info_path)\n",
    "    # lesson_course = pd.read_feather(lesson_course_path)\n",
    "    # teachers = pd.read_feather(teachers_path)\n",
    "    # lessons = pd.read_feather(lessons_path)\n",
    "    orders = pd.read_feather(orders_path)\n",
    "    print('загружено из директории \"data\"')\n",
    "except:\n",
    "    teacher_prices = pd.read_feather(userdata.get('teacher_prices'))\n",
    "    teachers_info = pd.read_feather(userdata.get('teachers_info'))\n",
    "    lesson_course = pd.read_feather(userdata.get('lesson_course'))\n",
    "    teachers = pd.read_feather(userdata.get('teachers'))\n",
    "    lessons = pd.read_feather(userdata.get('lessons'))\n",
    "    orders = pd.read_feather(userdata.get('orders'))\n",
    "    print('загружено из директории Google Drive')"
   ]
  },
  {
   "cell_type": "markdown",
   "id": "6c9c8744-f9a6-41b3-ae21-b2e4363ff196",
   "metadata": {},
   "source": [
    "Проверка таблиц в базе данных"
   ]
  },
  {
   "cell_type": "code",
   "execution_count": 5,
   "id": "369d95ac-1924-49b8-9d80-91570dd297a4",
   "metadata": {},
   "outputs": [
    {
     "name": "stdout",
     "output_type": "stream",
     "text": [
      "существующие в базе таблицы: [('teacher_prices',), ('teachers_info',), ('lessons',), ('teachers',), ('lesson_course',), ('orders',)]\n"
     ]
    }
   ],
   "source": [
    "connection = {\"sslmode\": \"require\", \"target_session_attrs\": \"read-write\"}\n",
    "connection.update(postgres_credentials)\n",
    "\n",
    "with psycopg.connect(**connection) as conn:\n",
    "    with conn.cursor() as cur:\n",
    "        cur.execute(f\"SELECT table_name FROM information_schema.tables WHERE table_schema='public'\")\n",
    "        print(f\"существующие в базе таблицы: {cur.fetchall()}\")"
   ]
  },
  {
   "cell_type": "markdown",
   "id": "e74f384b-e375-4d71-a7d1-9df242519fb7",
   "metadata": {
    "id": "e74f384b-e375-4d71-a7d1-9df242519fb7"
   },
   "source": [
    "### teacher_prices"
   ]
  },
  {
   "cell_type": "code",
   "execution_count": 18,
   "id": "414635a8-01c3-40b4-9be7-79b5c1089765",
   "metadata": {},
   "outputs": [
    {
     "name": "stdout",
     "output_type": "stream",
     "text": [
      "таблица teacher_prices загружена, её размерность: (432422, 6)\n"
     ]
    }
   ],
   "source": [
    "TABLE_NAME = 'teacher_prices'\n",
    "with psycopg.connect(**connection) as conn:\n",
    "    with conn.cursor() as cur:\n",
    "        cur.execute(f\"SELECT * FROM {TABLE_NAME}\")\n",
    "        data = cur.fetchall()\n",
    "        columns = [col[0] for col in cur.description]\n",
    "\n",
    "teacher_prices = pd.DataFrame(data, columns=columns).drop('index', axis=1)\n",
    "print(f\"таблица {TABLE_NAME} загружена, её размерность: {teacher_prices.shape}\")"
   ]
  },
  {
   "cell_type": "code",
   "execution_count": 19,
   "id": "b182e30d-6e5b-4f69-9cfe-0551377c46ef",
   "metadata": {
    "colab": {
     "base_uri": "https://localhost:8080/",
     "height": 1000
    },
    "id": "b182e30d-6e5b-4f69-9cfe-0551377c46ef",
    "outputId": "f5dc14c1-2d2c-488f-94be-ef004c94de9d"
   },
   "outputs": [
    {
     "name": "stdout",
     "output_type": "stream",
     "text": [
      "<class 'pandas.core.frame.DataFrame'>\n",
      "RangeIndex: 432422 entries, 0 to 432421\n",
      "Data columns (total 6 columns):\n",
      " #   Column          Non-Null Count   Dtype  \n",
      "---  ------          --------------   -----  \n",
      " 0   date_update     432422 non-null  object \n",
      " 1   teacher_id      427852 non-null  float64\n",
      " 2   subject_id      432422 non-null  int64  \n",
      " 3   price           432422 non-null  int64  \n",
      " 4   price_external  432422 non-null  int64  \n",
      " 5   price_remote    432422 non-null  int64  \n",
      "dtypes: float64(1), int64(4), object(1)\n",
      "memory usage: 19.8+ MB\n"
     ]
    },
    {
     "data": {
      "text/html": [
       "<div>\n",
       "<style scoped>\n",
       "    .dataframe tbody tr th:only-of-type {\n",
       "        vertical-align: middle;\n",
       "    }\n",
       "\n",
       "    .dataframe tbody tr th {\n",
       "        vertical-align: top;\n",
       "    }\n",
       "\n",
       "    .dataframe thead th {\n",
       "        text-align: right;\n",
       "    }\n",
       "</style>\n",
       "<table border=\"1\" class=\"dataframe\">\n",
       "  <thead>\n",
       "    <tr style=\"text-align: right;\">\n",
       "      <th></th>\n",
       "      <th>date_update</th>\n",
       "      <th>teacher_id</th>\n",
       "      <th>subject_id</th>\n",
       "      <th>price</th>\n",
       "      <th>price_external</th>\n",
       "      <th>price_remote</th>\n",
       "    </tr>\n",
       "  </thead>\n",
       "  <tbody>\n",
       "    <tr>\n",
       "      <th>97742</th>\n",
       "      <td>2014-04-19 18:16:31.873</td>\n",
       "      <td>65221.0</td>\n",
       "      <td>11</td>\n",
       "      <td>700</td>\n",
       "      <td>700</td>\n",
       "      <td>0</td>\n",
       "    </tr>\n",
       "    <tr>\n",
       "      <th>366998</th>\n",
       "      <td>2022-05-31 20:17:56.590</td>\n",
       "      <td>261894.0</td>\n",
       "      <td>15</td>\n",
       "      <td>800</td>\n",
       "      <td>0</td>\n",
       "      <td>800</td>\n",
       "    </tr>\n",
       "    <tr>\n",
       "      <th>108605</th>\n",
       "      <td>2014-09-18 14:41:30.173</td>\n",
       "      <td>72291.0</td>\n",
       "      <td>11</td>\n",
       "      <td>0</td>\n",
       "      <td>0</td>\n",
       "      <td>3000</td>\n",
       "    </tr>\n",
       "    <tr>\n",
       "      <th>11308</th>\n",
       "      <td>2009-10-13 23:08:17.430</td>\n",
       "      <td>8031.0</td>\n",
       "      <td>1</td>\n",
       "      <td>1000</td>\n",
       "      <td>1000</td>\n",
       "      <td>700</td>\n",
       "    </tr>\n",
       "    <tr>\n",
       "      <th>353031</th>\n",
       "      <td>2021-12-12 18:57:26.973</td>\n",
       "      <td>250198.0</td>\n",
       "      <td>10</td>\n",
       "      <td>500</td>\n",
       "      <td>600</td>\n",
       "      <td>500</td>\n",
       "    </tr>\n",
       "  </tbody>\n",
       "</table>\n",
       "</div>"
      ],
      "text/plain": [
       "                    date_update  teacher_id  subject_id  price  \\\n",
       "97742   2014-04-19 18:16:31.873     65221.0          11    700   \n",
       "366998  2022-05-31 20:17:56.590    261894.0          15    800   \n",
       "108605  2014-09-18 14:41:30.173     72291.0          11      0   \n",
       "11308   2009-10-13 23:08:17.430      8031.0           1   1000   \n",
       "353031  2021-12-12 18:57:26.973    250198.0          10    500   \n",
       "\n",
       "        price_external  price_remote  \n",
       "97742              700             0  \n",
       "366998               0           800  \n",
       "108605               0          3000  \n",
       "11308             1000           700  \n",
       "353031             600           500  "
      ]
     },
     "metadata": {},
     "output_type": "display_data"
    },
    {
     "name": "stdout",
     "output_type": "stream",
     "text": [
      "количество полных дубликатов строк: 860\n"
     ]
    },
    {
     "data": {
      "image/png": "[encoded data removed]",
      "text/plain": [
       "<Figure size 640x480 with 1 Axes>"
      ]
     },
     "metadata": {},
     "output_type": "display_data"
    },
    {
     "name": "stdout",
     "output_type": "stream",
     "text": [
      "количество пропущенных значений:\n",
      "date_update          0\n",
      "teacher_id        4570\n",
      "subject_id           0\n",
      "price                0\n",
      "price_external       0\n",
      "price_remote         0\n",
      "dtype: int64\n"
     ]
    },
    {
     "data": {
      "image/png": "[encoded data removed]",
      "text/plain": [
       "<Figure size 640x480 with 2 Axes>"
      ]
     },
     "metadata": {},
     "output_type": "display_data"
    },
    {
     "name": "stdout",
     "output_type": "stream",
     "text": [
      "Процент пропущенных значений в признаках:\n",
      "teacher_id: 1.06%\n",
      "Количество уникальных значений в столбце 'teacher_id': 271396\n",
      "Соотношение уникальных значений и общего количества записей в столбце 'teacher_id': 1.59\n",
      "\n",
      "Количество уникальных значений в столбце 'subject_id': 27\n",
      "Соотношение уникальных значений и общего количества записей в столбце 'subject_id': 16015.63\n",
      "\n"
     ]
    }
   ],
   "source": [
    "explorer_teacher_prices = DatasetExplorer(teacher_prices)\n",
    "explorer_teacher_prices.explore_dataset()  # 432422"
   ]
  },
  {
   "cell_type": "markdown",
   "id": "895978a9-b999-43cb-9e8f-a160c8958a64",
   "metadata": {
    "id": "895978a9-b999-43cb-9e8f-a160c8958a64"
   },
   "source": [
    "Точечное изучение нескольких пропущенных значений"
   ]
  },
  {
   "cell_type": "code",
   "execution_count": 20,
   "id": "da898755-e4a7-4288-9ad6-41b5f9bc69e7",
   "metadata": {
    "colab": {
     "base_uri": "https://localhost:8080/",
     "height": 843
    },
    "id": "da898755-e4a7-4288-9ad6-41b5f9bc69e7",
    "outputId": "00880eb6-28e7-4d78-89ea-54aece79b9d7"
   },
   "outputs": [
    {
     "name": "stdout",
     "output_type": "stream",
     "text": [
      "Окружение пропущенной записи с индексом 1950:\n"
     ]
    },
    {
     "data": {
      "text/html": [
       "<div>\n",
       "<style scoped>\n",
       "    .dataframe tbody tr th:only-of-type {\n",
       "        vertical-align: middle;\n",
       "    }\n",
       "\n",
       "    .dataframe tbody tr th {\n",
       "        vertical-align: top;\n",
       "    }\n",
       "\n",
       "    .dataframe thead th {\n",
       "        text-align: right;\n",
       "    }\n",
       "</style>\n",
       "<table border=\"1\" class=\"dataframe\">\n",
       "  <thead>\n",
       "    <tr style=\"text-align: right;\">\n",
       "      <th></th>\n",
       "      <th>date_update</th>\n",
       "      <th>teacher_id</th>\n",
       "      <th>subject_id</th>\n",
       "      <th>price</th>\n",
       "      <th>price_external</th>\n",
       "      <th>price_remote</th>\n",
       "    </tr>\n",
       "  </thead>\n",
       "  <tbody>\n",
       "    <tr>\n",
       "      <th>1948</th>\n",
       "      <td>2008-09-21 16:08:45.620</td>\n",
       "      <td>1860.0</td>\n",
       "      <td>23</td>\n",
       "      <td>1000</td>\n",
       "      <td>1000</td>\n",
       "      <td>1000</td>\n",
       "    </tr>\n",
       "    <tr>\n",
       "      <th>1949</th>\n",
       "      <td>2008-09-21 16:12:48.057</td>\n",
       "      <td>1856.0</td>\n",
       "      <td>1</td>\n",
       "      <td>3500</td>\n",
       "      <td>4000</td>\n",
       "      <td>0</td>\n",
       "    </tr>\n",
       "    <tr>\n",
       "      <th>1950</th>\n",
       "      <td>2008-09-21 16:12:48.057</td>\n",
       "      <td>NaN</td>\n",
       "      <td>15</td>\n",
       "      <td>3000</td>\n",
       "      <td>4000</td>\n",
       "      <td>0</td>\n",
       "    </tr>\n",
       "    <tr>\n",
       "      <th>1951</th>\n",
       "      <td>2008-09-21 16:25:30.480</td>\n",
       "      <td>1861.0</td>\n",
       "      <td>8</td>\n",
       "      <td>0</td>\n",
       "      <td>0</td>\n",
       "      <td>2000</td>\n",
       "    </tr>\n",
       "    <tr>\n",
       "      <th>1952</th>\n",
       "      <td>2008-09-22 01:32:14.470</td>\n",
       "      <td>1374.0</td>\n",
       "      <td>6</td>\n",
       "      <td>750</td>\n",
       "      <td>750</td>\n",
       "      <td>750</td>\n",
       "    </tr>\n",
       "  </tbody>\n",
       "</table>\n",
       "</div>"
      ],
      "text/plain": [
       "                  date_update  teacher_id  subject_id  price  price_external  \\\n",
       "1948  2008-09-21 16:08:45.620      1860.0          23   1000            1000   \n",
       "1949  2008-09-21 16:12:48.057      1856.0           1   3500            4000   \n",
       "1950  2008-09-21 16:12:48.057         NaN          15   3000            4000   \n",
       "1951  2008-09-21 16:25:30.480      1861.0           8      0               0   \n",
       "1952  2008-09-22 01:32:14.470      1374.0           6    750             750   \n",
       "\n",
       "      price_remote  \n",
       "1948          1000  \n",
       "1949             0  \n",
       "1950             0  \n",
       "1951          2000  \n",
       "1952           750  "
      ]
     },
     "metadata": {},
     "output_type": "display_data"
    },
    {
     "name": "stdout",
     "output_type": "stream",
     "text": [
      "Окружение пропущенной записи с индексом 2020:\n"
     ]
    },
    {
     "data": {
      "text/html": [
       "<div>\n",
       "<style scoped>\n",
       "    .dataframe tbody tr th:only-of-type {\n",
       "        vertical-align: middle;\n",
       "    }\n",
       "\n",
       "    .dataframe tbody tr th {\n",
       "        vertical-align: top;\n",
       "    }\n",
       "\n",
       "    .dataframe thead th {\n",
       "        text-align: right;\n",
       "    }\n",
       "</style>\n",
       "<table border=\"1\" class=\"dataframe\">\n",
       "  <thead>\n",
       "    <tr style=\"text-align: right;\">\n",
       "      <th></th>\n",
       "      <th>date_update</th>\n",
       "      <th>teacher_id</th>\n",
       "      <th>subject_id</th>\n",
       "      <th>price</th>\n",
       "      <th>price_external</th>\n",
       "      <th>price_remote</th>\n",
       "    </tr>\n",
       "  </thead>\n",
       "  <tbody>\n",
       "    <tr>\n",
       "      <th>2018</th>\n",
       "      <td>2008-09-24 17:29:59.240</td>\n",
       "      <td>602.0</td>\n",
       "      <td>6</td>\n",
       "      <td>500</td>\n",
       "      <td>500</td>\n",
       "      <td>500</td>\n",
       "    </tr>\n",
       "    <tr>\n",
       "      <th>2019</th>\n",
       "      <td>2008-09-24 17:31:57.660</td>\n",
       "      <td>615.0</td>\n",
       "      <td>33</td>\n",
       "      <td>2500</td>\n",
       "      <td>2500</td>\n",
       "      <td>2500</td>\n",
       "    </tr>\n",
       "    <tr>\n",
       "      <th>2020</th>\n",
       "      <td>2008-09-24 17:31:57.660</td>\n",
       "      <td>NaN</td>\n",
       "      <td>33</td>\n",
       "      <td>2500</td>\n",
       "      <td>2500</td>\n",
       "      <td>2500</td>\n",
       "    </tr>\n",
       "    <tr>\n",
       "      <th>2021</th>\n",
       "      <td>2008-09-24 17:31:57.660</td>\n",
       "      <td>615.0</td>\n",
       "      <td>23</td>\n",
       "      <td>2500</td>\n",
       "      <td>2500</td>\n",
       "      <td>2500</td>\n",
       "    </tr>\n",
       "    <tr>\n",
       "      <th>2022</th>\n",
       "      <td>2008-09-24 17:32:42.097</td>\n",
       "      <td>979.0</td>\n",
       "      <td>2</td>\n",
       "      <td>1500</td>\n",
       "      <td>1500</td>\n",
       "      <td>0</td>\n",
       "    </tr>\n",
       "  </tbody>\n",
       "</table>\n",
       "</div>"
      ],
      "text/plain": [
       "                  date_update  teacher_id  subject_id  price  price_external  \\\n",
       "2018  2008-09-24 17:29:59.240       602.0           6    500             500   \n",
       "2019  2008-09-24 17:31:57.660       615.0          33   2500            2500   \n",
       "2020  2008-09-24 17:31:57.660         NaN          33   2500            2500   \n",
       "2021  2008-09-24 17:31:57.660       615.0          23   2500            2500   \n",
       "2022  2008-09-24 17:32:42.097       979.0           2   1500            1500   \n",
       "\n",
       "      price_remote  \n",
       "2018           500  \n",
       "2019          2500  \n",
       "2020          2500  \n",
       "2021          2500  \n",
       "2022             0  "
      ]
     },
     "metadata": {},
     "output_type": "display_data"
    },
    {
     "name": "stdout",
     "output_type": "stream",
     "text": [
      "Окружение пропущенной записи с индексом 2493:\n"
     ]
    },
    {
     "data": {
      "text/html": [
       "<div>\n",
       "<style scoped>\n",
       "    .dataframe tbody tr th:only-of-type {\n",
       "        vertical-align: middle;\n",
       "    }\n",
       "\n",
       "    .dataframe tbody tr th {\n",
       "        vertical-align: top;\n",
       "    }\n",
       "\n",
       "    .dataframe thead th {\n",
       "        text-align: right;\n",
       "    }\n",
       "</style>\n",
       "<table border=\"1\" class=\"dataframe\">\n",
       "  <thead>\n",
       "    <tr style=\"text-align: right;\">\n",
       "      <th></th>\n",
       "      <th>date_update</th>\n",
       "      <th>teacher_id</th>\n",
       "      <th>subject_id</th>\n",
       "      <th>price</th>\n",
       "      <th>price_external</th>\n",
       "      <th>price_remote</th>\n",
       "    </tr>\n",
       "  </thead>\n",
       "  <tbody>\n",
       "    <tr>\n",
       "      <th>2491</th>\n",
       "      <td>2008-10-13 22:55:25.307</td>\n",
       "      <td>1761.0</td>\n",
       "      <td>2</td>\n",
       "      <td>700</td>\n",
       "      <td>0</td>\n",
       "      <td>0</td>\n",
       "    </tr>\n",
       "    <tr>\n",
       "      <th>2492</th>\n",
       "      <td>2008-10-13 22:55:46.883</td>\n",
       "      <td>354.0</td>\n",
       "      <td>2</td>\n",
       "      <td>0</td>\n",
       "      <td>450</td>\n",
       "      <td>0</td>\n",
       "    </tr>\n",
       "    <tr>\n",
       "      <th>2493</th>\n",
       "      <td>2008-10-13 22:55:46.883</td>\n",
       "      <td>NaN</td>\n",
       "      <td>1</td>\n",
       "      <td>0</td>\n",
       "      <td>450</td>\n",
       "      <td>0</td>\n",
       "    </tr>\n",
       "    <tr>\n",
       "      <th>2494</th>\n",
       "      <td>2008-10-13 23:02:10.443</td>\n",
       "      <td>2181.0</td>\n",
       "      <td>8</td>\n",
       "      <td>500</td>\n",
       "      <td>500</td>\n",
       "      <td>500</td>\n",
       "    </tr>\n",
       "    <tr>\n",
       "      <th>2495</th>\n",
       "      <td>2008-10-13 23:09:32.113</td>\n",
       "      <td>2147.0</td>\n",
       "      <td>2</td>\n",
       "      <td>1000</td>\n",
       "      <td>1000</td>\n",
       "      <td>1000</td>\n",
       "    </tr>\n",
       "  </tbody>\n",
       "</table>\n",
       "</div>"
      ],
      "text/plain": [
       "                  date_update  teacher_id  subject_id  price  price_external  \\\n",
       "2491  2008-10-13 22:55:25.307      1761.0           2    700               0   \n",
       "2492  2008-10-13 22:55:46.883       354.0           2      0             450   \n",
       "2493  2008-10-13 22:55:46.883         NaN           1      0             450   \n",
       "2494  2008-10-13 23:02:10.443      2181.0           8    500             500   \n",
       "2495  2008-10-13 23:09:32.113      2147.0           2   1000            1000   \n",
       "\n",
       "      price_remote  \n",
       "2491             0  \n",
       "2492             0  \n",
       "2493             0  \n",
       "2494           500  \n",
       "2495          1000  "
      ]
     },
     "metadata": {},
     "output_type": "display_data"
    },
    {
     "name": "stdout",
     "output_type": "stream",
     "text": [
      "Окружение пропущенной записи с индексом 2736:\n"
     ]
    },
    {
     "data": {
      "text/html": [
       "<div>\n",
       "<style scoped>\n",
       "    .dataframe tbody tr th:only-of-type {\n",
       "        vertical-align: middle;\n",
       "    }\n",
       "\n",
       "    .dataframe tbody tr th {\n",
       "        vertical-align: top;\n",
       "    }\n",
       "\n",
       "    .dataframe thead th {\n",
       "        text-align: right;\n",
       "    }\n",
       "</style>\n",
       "<table border=\"1\" class=\"dataframe\">\n",
       "  <thead>\n",
       "    <tr style=\"text-align: right;\">\n",
       "      <th></th>\n",
       "      <th>date_update</th>\n",
       "      <th>teacher_id</th>\n",
       "      <th>subject_id</th>\n",
       "      <th>price</th>\n",
       "      <th>price_external</th>\n",
       "      <th>price_remote</th>\n",
       "    </tr>\n",
       "  </thead>\n",
       "  <tbody>\n",
       "    <tr>\n",
       "      <th>2734</th>\n",
       "      <td>2008-10-23 22:48:04.080</td>\n",
       "      <td>2360.0</td>\n",
       "      <td>6</td>\n",
       "      <td>500</td>\n",
       "      <td>500</td>\n",
       "      <td>500</td>\n",
       "    </tr>\n",
       "    <tr>\n",
       "      <th>2735</th>\n",
       "      <td>2008-10-23 22:48:04.080</td>\n",
       "      <td>2360.0</td>\n",
       "      <td>2</td>\n",
       "      <td>500</td>\n",
       "      <td>500</td>\n",
       "      <td>500</td>\n",
       "    </tr>\n",
       "    <tr>\n",
       "      <th>2736</th>\n",
       "      <td>2008-10-23 22:56:19.877</td>\n",
       "      <td>NaN</td>\n",
       "      <td>2</td>\n",
       "      <td>1000</td>\n",
       "      <td>1000</td>\n",
       "      <td>1000</td>\n",
       "    </tr>\n",
       "    <tr>\n",
       "      <th>2737</th>\n",
       "      <td>2008-10-23 22:56:19.877</td>\n",
       "      <td>NaN</td>\n",
       "      <td>33</td>\n",
       "      <td>1000</td>\n",
       "      <td>1000</td>\n",
       "      <td>1000</td>\n",
       "    </tr>\n",
       "    <tr>\n",
       "      <th>2738</th>\n",
       "      <td>2008-10-23 22:59:47.717</td>\n",
       "      <td>2374.0</td>\n",
       "      <td>2</td>\n",
       "      <td>1500</td>\n",
       "      <td>1500</td>\n",
       "      <td>0</td>\n",
       "    </tr>\n",
       "  </tbody>\n",
       "</table>\n",
       "</div>"
      ],
      "text/plain": [
       "                  date_update  teacher_id  subject_id  price  price_external  \\\n",
       "2734  2008-10-23 22:48:04.080      2360.0           6    500             500   \n",
       "2735  2008-10-23 22:48:04.080      2360.0           2    500             500   \n",
       "2736  2008-10-23 22:56:19.877         NaN           2   1000            1000   \n",
       "2737  2008-10-23 22:56:19.877         NaN          33   1000            1000   \n",
       "2738  2008-10-23 22:59:47.717      2374.0           2   1500            1500   \n",
       "\n",
       "      price_remote  \n",
       "2734           500  \n",
       "2735           500  \n",
       "2736          1000  \n",
       "2737          1000  \n",
       "2738             0  "
      ]
     },
     "metadata": {},
     "output_type": "display_data"
    }
   ],
   "source": [
    "# Получаем индексы пропущенных записей\n",
    "missing_indices = teacher_prices[teacher_prices['teacher_id'].isna()].index\n",
    "\n",
    "# Цикл для вывода окружения пропущенных индексов\n",
    "for index in missing_indices[9:13]:\n",
    "    print(f'Окружение пропущенной записи с индексом {index}:')\n",
    "    display(teacher_prices.loc[index-2:index+2])"
   ]
  },
  {
   "cell_type": "markdown",
   "id": "32dd0d54-2921-42a8-82ee-78dfad26a1e6",
   "metadata": {
    "id": "32dd0d54-2921-42a8-82ee-78dfad26a1e6"
   },
   "source": [
    "#### Выводы и заключения\n",
    "- в признаке `date_update` необходимо изменить тип данных для корректного проведения дальнейших исследований;\n",
    "- в признаке `teacher_id` также можно изменить тип данных для уменьшения объёма занимаемой памяти;\n",
    "- обнаружены пропуски в `teacher_id`:\n",
    "  - если пропущенные значения относятся к учителям выше или ниже по списку, то их можно заполнить;\n",
    "  - ориентиром послужит точное совпадение в признаке `date_update`;\n",
    "  - оставшиеся незаполненными записи будут исключены, т.к. объём датафрейма это позволяет;\n",
    "- количество полных дубликатов записей составляет менее 1% от всего набора данных,  \n",
    "  принимаю решение об их удалении;\n",
    "- количество уникальных `teacher_id` в датафрейме - 271396, что примерно в полтора раза меньше общего количества записей,  \n",
    "  это говорит о том, что некоторые преподаватели проводят обучение по нескольким предметам."
   ]
  },
  {
   "cell_type": "markdown",
   "id": "a5a160b7-e944-4331-b746-1f32c3b92cc1",
   "metadata": {
    "id": "a5a160b7-e944-4331-b746-1f32c3b92cc1"
   },
   "source": [
    "### teachers_info"
   ]
  },
  {
   "cell_type": "code",
   "execution_count": 24,
   "id": "8b414fd9-7955-4e1c-92bd-412db0ff5bfb",
   "metadata": {},
   "outputs": [
    {
     "name": "stdout",
     "output_type": "stream",
     "text": [
      "таблица teachers_info загружена, её размерность: (307972, 15)\n"
     ]
    }
   ],
   "source": [
    "TABLE_NAME = 'teachers_info'\n",
    "with psycopg.connect(**connection) as conn:\n",
    "    with conn.cursor() as cur:\n",
    "        cur.execute(f\"SELECT * FROM {TABLE_NAME}\")\n",
    "        data = cur.fetchall()\n",
    "        columns = [col[0] for col in cur.description]\n",
    "\n",
    "teachers_info = pd.DataFrame(data, columns=columns).drop('index', axis=1)\n",
    "print(f\"таблица {TABLE_NAME} загружена, её размерность: {teachers_info.shape}\")"
   ]
  },
  {
   "cell_type": "code",
   "execution_count": 25,
   "id": "1c5b025e-cc4b-4568-9fbb-8bde4d164c52",
   "metadata": {
    "colab": {
     "base_uri": "https://localhost:8080/",
     "height": 1000
    },
    "id": "1c5b025e-cc4b-4568-9fbb-8bde4d164c52",
    "outputId": "85efa370-921e-4e79-8bd0-294c146567bc"
   },
   "outputs": [
    {
     "name": "stdout",
     "output_type": "stream",
     "text": [
      "<class 'pandas.core.frame.DataFrame'>\n",
      "RangeIndex: 307972 entries, 0 to 307971\n",
      "Data columns (total 15 columns):\n",
      " #   Column                   Non-Null Count   Dtype  \n",
      "---  ------                   --------------   -----  \n",
      " 0   id                       307972 non-null  int64  \n",
      " 1   reg_date                 307972 non-null  object \n",
      " 2   birth_date               307972 non-null  object \n",
      " 3   teaching_start_date      307972 non-null  object \n",
      " 4   is_email_confirmed       307972 non-null  int64  \n",
      " 5   lesson_duration          307972 non-null  int64  \n",
      " 6   lesson_cost              307972 non-null  int64  \n",
      " 7   is_display               307972 non-null  int64  \n",
      " 8   last_visited             235837 non-null  object \n",
      " 9   is_pupils_needed         11208 non-null   float64\n",
      " 10  is_cell_phone_confirmed  307972 non-null  int64  \n",
      " 11  area_id                  307972 non-null  int64  \n",
      " 12  sex                      307972 non-null  int64  \n",
      " 13  orders_allowed           307972 non-null  int64  \n",
      " 14  review_num               307972 non-null  int64  \n",
      "dtypes: float64(1), int64(10), object(4)\n",
      "memory usage: 35.2+ MB\n"
     ]
    },
    {
     "data": {
      "text/html": [
       "<div>\n",
       "<style scoped>\n",
       "    .dataframe tbody tr th:only-of-type {\n",
       "        vertical-align: middle;\n",
       "    }\n",
       "\n",
       "    .dataframe tbody tr th {\n",
       "        vertical-align: top;\n",
       "    }\n",
       "\n",
       "    .dataframe thead th {\n",
       "        text-align: right;\n",
       "    }\n",
       "</style>\n",
       "<table border=\"1\" class=\"dataframe\">\n",
       "  <thead>\n",
       "    <tr style=\"text-align: right;\">\n",
       "      <th></th>\n",
       "      <th>id</th>\n",
       "      <th>reg_date</th>\n",
       "      <th>birth_date</th>\n",
       "      <th>teaching_start_date</th>\n",
       "      <th>is_email_confirmed</th>\n",
       "      <th>lesson_duration</th>\n",
       "      <th>lesson_cost</th>\n",
       "      <th>is_display</th>\n",
       "      <th>last_visited</th>\n",
       "      <th>is_pupils_needed</th>\n",
       "      <th>is_cell_phone_confirmed</th>\n",
       "      <th>area_id</th>\n",
       "      <th>sex</th>\n",
       "      <th>orders_allowed</th>\n",
       "      <th>review_num</th>\n",
       "    </tr>\n",
       "  </thead>\n",
       "  <tbody>\n",
       "    <tr>\n",
       "      <th>78044</th>\n",
       "      <td>80443</td>\n",
       "      <td>2015-01-15 12:52:27.000</td>\n",
       "      <td>1984-04-27 00:00:00.000</td>\n",
       "      <td>2010-09-01 00:00:00.000</td>\n",
       "      <td>0</td>\n",
       "      <td>40</td>\n",
       "      <td>1000</td>\n",
       "      <td>0</td>\n",
       "      <td>None</td>\n",
       "      <td>NaN</td>\n",
       "      <td>0</td>\n",
       "      <td>1</td>\n",
       "      <td>2</td>\n",
       "      <td>1</td>\n",
       "      <td>0</td>\n",
       "    </tr>\n",
       "    <tr>\n",
       "      <th>17340</th>\n",
       "      <td>17944</td>\n",
       "      <td>2010-10-04 12:20:43.000</td>\n",
       "      <td>1987-01-31 00:00:00.000</td>\n",
       "      <td>2005-09-01 00:00:00.000</td>\n",
       "      <td>0</td>\n",
       "      <td>60</td>\n",
       "      <td>700</td>\n",
       "      <td>1</td>\n",
       "      <td>2022-10-23 17:09:44.483</td>\n",
       "      <td>NaN</td>\n",
       "      <td>0</td>\n",
       "      <td>1</td>\n",
       "      <td>1</td>\n",
       "      <td>1</td>\n",
       "      <td>27</td>\n",
       "    </tr>\n",
       "    <tr>\n",
       "      <th>182540</th>\n",
       "      <td>186945</td>\n",
       "      <td>2019-11-24 12:16:59.837</td>\n",
       "      <td>2001-06-12 00:00:00.000</td>\n",
       "      <td>2019-09-01 00:00:00.000</td>\n",
       "      <td>0</td>\n",
       "      <td>60</td>\n",
       "      <td>0</td>\n",
       "      <td>0</td>\n",
       "      <td>2019-11-24 12:17:00.570</td>\n",
       "      <td>NaN</td>\n",
       "      <td>0</td>\n",
       "      <td>2</td>\n",
       "      <td>1</td>\n",
       "      <td>1</td>\n",
       "      <td>0</td>\n",
       "    </tr>\n",
       "    <tr>\n",
       "      <th>115339</th>\n",
       "      <td>118729</td>\n",
       "      <td>2017-04-16 14:03:05.000</td>\n",
       "      <td>1990-06-05 00:00:00.000</td>\n",
       "      <td>2011-09-01 00:00:00.000</td>\n",
       "      <td>0</td>\n",
       "      <td>60</td>\n",
       "      <td>1200</td>\n",
       "      <td>1</td>\n",
       "      <td>2022-10-04 21:22:46.107</td>\n",
       "      <td>NaN</td>\n",
       "      <td>0</td>\n",
       "      <td>1</td>\n",
       "      <td>2</td>\n",
       "      <td>1</td>\n",
       "      <td>1</td>\n",
       "    </tr>\n",
       "    <tr>\n",
       "      <th>73076</th>\n",
       "      <td>75202</td>\n",
       "      <td>2014-10-16 11:14:37.000</td>\n",
       "      <td>1990-08-01 00:00:00.000</td>\n",
       "      <td>2009-09-01 00:00:00.000</td>\n",
       "      <td>0</td>\n",
       "      <td>60</td>\n",
       "      <td>0</td>\n",
       "      <td>0</td>\n",
       "      <td>None</td>\n",
       "      <td>NaN</td>\n",
       "      <td>0</td>\n",
       "      <td>1</td>\n",
       "      <td>2</td>\n",
       "      <td>1</td>\n",
       "      <td>0</td>\n",
       "    </tr>\n",
       "  </tbody>\n",
       "</table>\n",
       "</div>"
      ],
      "text/plain": [
       "            id                 reg_date               birth_date  \\\n",
       "78044    80443  2015-01-15 12:52:27.000  1984-04-27 00:00:00.000   \n",
       "17340    17944  2010-10-04 12:20:43.000  1987-01-31 00:00:00.000   \n",
       "182540  186945  2019-11-24 12:16:59.837  2001-06-12 00:00:00.000   \n",
       "115339  118729  2017-04-16 14:03:05.000  1990-06-05 00:00:00.000   \n",
       "73076    75202  2014-10-16 11:14:37.000  1990-08-01 00:00:00.000   \n",
       "\n",
       "            teaching_start_date  is_email_confirmed  lesson_duration  \\\n",
       "78044   2010-09-01 00:00:00.000                   0               40   \n",
       "17340   2005-09-01 00:00:00.000                   0               60   \n",
       "182540  2019-09-01 00:00:00.000                   0               60   \n",
       "115339  2011-09-01 00:00:00.000                   0               60   \n",
       "73076   2009-09-01 00:00:00.000                   0               60   \n",
       "\n",
       "        lesson_cost  is_display             last_visited  is_pupils_needed  \\\n",
       "78044          1000           0                     None               NaN   \n",
       "17340           700           1  2022-10-23 17:09:44.483               NaN   \n",
       "182540            0           0  2019-11-24 12:17:00.570               NaN   \n",
       "115339         1200           1  2022-10-04 21:22:46.107               NaN   \n",
       "73076             0           0                     None               NaN   \n",
       "\n",
       "        is_cell_phone_confirmed  area_id  sex  orders_allowed  review_num  \n",
       "78044                         0        1    2               1           0  \n",
       "17340                         0        1    1               1          27  \n",
       "182540                        0        2    1               1           0  \n",
       "115339                        0        1    2               1           1  \n",
       "73076                         0        1    2               1           0  "
      ]
     },
     "metadata": {},
     "output_type": "display_data"
    },
    {
     "name": "stdout",
     "output_type": "stream",
     "text": [
      "количество полных дубликатов строк: 0\n",
      "количество пропущенных значений:\n",
      "id                              0\n",
      "reg_date                        0\n",
      "birth_date                      0\n",
      "teaching_start_date             0\n",
      "is_email_confirmed              0\n",
      "lesson_duration                 0\n",
      "lesson_cost                     0\n",
      "is_display                      0\n",
      "last_visited                72135\n",
      "is_pupils_needed           296764\n",
      "is_cell_phone_confirmed         0\n",
      "area_id                         0\n",
      "sex                             0\n",
      "orders_allowed                  0\n",
      "review_num                      0\n",
      "dtype: int64\n"
     ]
    },
    {
     "data": {
      "image/png": "[encoded data removed]",
      "text/plain": [
       "<Figure size 640x480 with 2 Axes>"
      ]
     },
     "metadata": {},
     "output_type": "display_data"
    },
    {
     "name": "stdout",
     "output_type": "stream",
     "text": [
      "Процент пропущенных значений в признаках:\n",
      "last_visited: 23.42%\n",
      "is_pupils_needed: 96.36%\n",
      "Количество уникальных значений в столбце 'id': 307972\n",
      "Соотношение уникальных значений и общего количества записей в столбце 'id': 1.00\n",
      "\n",
      "Количество уникальных значений в столбце 'area_id': 91\n",
      "Соотношение уникальных значений и общего количества записей в столбце 'area_id': 3384.31\n",
      "\n"
     ]
    }
   ],
   "source": [
    "explorer_teachers_info = DatasetExplorer(teachers_info)\n",
    "explorer_teachers_info.explore_dataset()  # 307972"
   ]
  },
  {
   "cell_type": "markdown",
   "id": "536bb265-bfd1-4003-b09a-602bc790f371",
   "metadata": {
    "id": "536bb265-bfd1-4003-b09a-602bc790f371"
   },
   "source": [
    "#### Выводы и заключения\n",
    "- для дальнейших исследований у данных признаков:\n",
    "  <br>`reg_date`, `birth_date`, `teaching_start_date`, `last_visited` -\n",
    "  <br>необходимо изменить тип данных на `datetime`;\n",
    "- дубликатов строк в данных не обнаружено;\n",
    "- в признаке `last_visited` почти четверть значений пропущена;\n",
    "- в признаке `is_pupils_needed` пропущены почти все значения,\n",
    "  <br>данный признак можно исключить из дальнейшего исследования;\n",
    "- все `id` учителей в датафрейме уникальны\n",
    "- признак `orders_allowed` необходимо исключить из дальнейших исследований,\n",
    "  <br>т.к. он даёт утечку целевого признака."
   ]
  },
  {
   "cell_type": "markdown",
   "id": "0351e0cb-c062-4ab2-a94e-9c10077af5d5",
   "metadata": {
    "id": "0351e0cb-c062-4ab2-a94e-9c10077af5d5"
   },
   "source": [
    "### lesson_course"
   ]
  },
  {
   "cell_type": "code",
   "execution_count": 28,
   "id": "3c9ad357-9aa3-4723-bdfc-c411f5102b00",
   "metadata": {},
   "outputs": [
    {
     "name": "stdout",
     "output_type": "stream",
     "text": [
      "таблица lesson_course загружена, её размерность: (893438, 10)\n"
     ]
    }
   ],
   "source": [
    "TABLE_NAME = 'lesson_course'\n",
    "with psycopg.connect(**connection) as conn:\n",
    "    with conn.cursor() as cur:\n",
    "        cur.execute(f\"SELECT * FROM {TABLE_NAME}\")\n",
    "        data = cur.fetchall()\n",
    "        columns = [col[0] for col in cur.description]\n",
    "\n",
    "lesson_course = pd.DataFrame(data, columns=columns).drop('index', axis=1)\n",
    "print(f\"таблица {TABLE_NAME} загружена, её размерность: {lesson_course.shape}\")"
   ]
  },
  {
   "cell_type": "code",
   "execution_count": 29,
   "id": "33477f9c-ef37-41f0-86a0-2228835b53b7",
   "metadata": {
    "colab": {
     "base_uri": "https://localhost:8080/",
     "height": 1000
    },
    "id": "33477f9c-ef37-41f0-86a0-2228835b53b7",
    "outputId": "7f41f34e-e789-4023-eeb7-584491e07e50"
   },
   "outputs": [
    {
     "name": "stdout",
     "output_type": "stream",
     "text": [
      "<class 'pandas.core.frame.DataFrame'>\n",
      "RangeIndex: 893438 entries, 0 to 893437\n",
      "Data columns (total 10 columns):\n",
      " #   Column             Non-Null Count   Dtype  \n",
      "---  ------             --------------   -----  \n",
      " 0   id                 893438 non-null  int64  \n",
      " 1   client_id          893437 non-null  float64\n",
      " 2   teacher_id         893438 non-null  int64  \n",
      " 3   order_id           890132 non-null  float64\n",
      " 4   lesson_place       893438 non-null  int64  \n",
      " 5   lesson_price       893438 non-null  int64  \n",
      " 6   is_active          893438 non-null  int64  \n",
      " 7   lesson_duration    893438 non-null  int64  \n",
      " 8   date_updated       893438 non-null  object \n",
      " 9   suspend_till_date  893438 non-null  object \n",
      "dtypes: float64(2), int64(6), object(2)\n",
      "memory usage: 68.2+ MB\n"
     ]
    },
    {
     "data": {
      "text/html": [
       "<div>\n",
       "<style scoped>\n",
       "    .dataframe tbody tr th:only-of-type {\n",
       "        vertical-align: middle;\n",
       "    }\n",
       "\n",
       "    .dataframe tbody tr th {\n",
       "        vertical-align: top;\n",
       "    }\n",
       "\n",
       "    .dataframe thead th {\n",
       "        text-align: right;\n",
       "    }\n",
       "</style>\n",
       "<table border=\"1\" class=\"dataframe\">\n",
       "  <thead>\n",
       "    <tr style=\"text-align: right;\">\n",
       "      <th></th>\n",
       "      <th>id</th>\n",
       "      <th>client_id</th>\n",
       "      <th>teacher_id</th>\n",
       "      <th>order_id</th>\n",
       "      <th>lesson_place</th>\n",
       "      <th>lesson_price</th>\n",
       "      <th>is_active</th>\n",
       "      <th>lesson_duration</th>\n",
       "      <th>date_updated</th>\n",
       "      <th>suspend_till_date</th>\n",
       "    </tr>\n",
       "  </thead>\n",
       "  <tbody>\n",
       "    <tr>\n",
       "      <th>399095</th>\n",
       "      <td>1057355</td>\n",
       "      <td>1000942.0</td>\n",
       "      <td>33465</td>\n",
       "      <td>2226016.0</td>\n",
       "      <td>2</td>\n",
       "      <td>500</td>\n",
       "      <td>1</td>\n",
       "      <td>60</td>\n",
       "      <td>2022-09-29 19:25:33.997</td>\n",
       "      <td>1800-01-01 00:00:00.000</td>\n",
       "    </tr>\n",
       "    <tr>\n",
       "      <th>531828</th>\n",
       "      <td>1237333</td>\n",
       "      <td>1122215.0</td>\n",
       "      <td>214868</td>\n",
       "      <td>2546912.0</td>\n",
       "      <td>4</td>\n",
       "      <td>1500</td>\n",
       "      <td>0</td>\n",
       "      <td>60</td>\n",
       "      <td>2023-04-05 15:29:32.610</td>\n",
       "      <td>1800-01-01 00:00:00.000</td>\n",
       "    </tr>\n",
       "    <tr>\n",
       "      <th>377536</th>\n",
       "      <td>1054893</td>\n",
       "      <td>997433.0</td>\n",
       "      <td>119157</td>\n",
       "      <td>2221309.0</td>\n",
       "      <td>4</td>\n",
       "      <td>2000</td>\n",
       "      <td>0</td>\n",
       "      <td>60</td>\n",
       "      <td>2022-09-27 15:47:54.470</td>\n",
       "      <td>1800-01-01 00:00:00.000</td>\n",
       "    </tr>\n",
       "    <tr>\n",
       "      <th>360939</th>\n",
       "      <td>917643</td>\n",
       "      <td>908419.0</td>\n",
       "      <td>58345</td>\n",
       "      <td>1969942.0</td>\n",
       "      <td>4</td>\n",
       "      <td>2000</td>\n",
       "      <td>1</td>\n",
       "      <td>60</td>\n",
       "      <td>2022-06-29 16:39:38.267</td>\n",
       "      <td>2022-09-12 00:00:00.000</td>\n",
       "    </tr>\n",
       "    <tr>\n",
       "      <th>184799</th>\n",
       "      <td>958001</td>\n",
       "      <td>936136.0</td>\n",
       "      <td>18197</td>\n",
       "      <td>2045284.0</td>\n",
       "      <td>6</td>\n",
       "      <td>1000</td>\n",
       "      <td>0</td>\n",
       "      <td>60</td>\n",
       "      <td>2022-04-27 16:44:19.140</td>\n",
       "      <td>1800-01-01 00:00:00.000</td>\n",
       "    </tr>\n",
       "  </tbody>\n",
       "</table>\n",
       "</div>"
      ],
      "text/plain": [
       "             id  client_id  teacher_id   order_id  lesson_place  lesson_price  \\\n",
       "399095  1057355  1000942.0       33465  2226016.0             2           500   \n",
       "531828  1237333  1122215.0      214868  2546912.0             4          1500   \n",
       "377536  1054893   997433.0      119157  2221309.0             4          2000   \n",
       "360939   917643   908419.0       58345  1969942.0             4          2000   \n",
       "184799   958001   936136.0       18197  2045284.0             6          1000   \n",
       "\n",
       "        is_active  lesson_duration             date_updated  \\\n",
       "399095          1               60  2022-09-29 19:25:33.997   \n",
       "531828          0               60  2023-04-05 15:29:32.610   \n",
       "377536          0               60  2022-09-27 15:47:54.470   \n",
       "360939          1               60  2022-06-29 16:39:38.267   \n",
       "184799          0               60  2022-04-27 16:44:19.140   \n",
       "\n",
       "              suspend_till_date  \n",
       "399095  1800-01-01 00:00:00.000  \n",
       "531828  1800-01-01 00:00:00.000  \n",
       "377536  1800-01-01 00:00:00.000  \n",
       "360939  2022-09-12 00:00:00.000  \n",
       "184799  1800-01-01 00:00:00.000  "
      ]
     },
     "metadata": {},
     "output_type": "display_data"
    },
    {
     "name": "stdout",
     "output_type": "stream",
     "text": [
      "количество полных дубликатов строк: 0\n",
      "количество пропущенных значений:\n",
      "id                      0\n",
      "client_id               1\n",
      "teacher_id              0\n",
      "order_id             3306\n",
      "lesson_place            0\n",
      "lesson_price            0\n",
      "is_active               0\n",
      "lesson_duration         0\n",
      "date_updated            0\n",
      "suspend_till_date       0\n",
      "dtype: int64\n"
     ]
    },
    {
     "data": {
      "image/png": "[encoded data removed]",
      "text/plain": [
       "<Figure size 640x480 with 2 Axes>"
      ]
     },
     "metadata": {},
     "output_type": "display_data"
    },
    {
     "name": "stdout",
     "output_type": "stream",
     "text": [
      "Процент пропущенных значений в признаках:\n",
      "client_id: 0.00%\n",
      "order_id: 0.37%\n",
      "Количество уникальных значений в столбце 'id': 893438\n",
      "Соотношение уникальных значений и общего количества записей в столбце 'id': 1.00\n",
      "\n",
      "Количество уникальных значений в столбце 'client_id': 408319\n",
      "Соотношение уникальных значений и общего количества записей в столбце 'client_id': 2.19\n",
      "\n",
      "Количество уникальных значений в столбце 'teacher_id': 68187\n",
      "Соотношение уникальных значений и общего количества записей в столбце 'teacher_id': 13.10\n",
      "\n",
      "Количество уникальных значений в столбце 'order_id': 890129\n",
      "Соотношение уникальных значений и общего количества записей в столбце 'order_id': 1.00\n",
      "\n"
     ]
    }
   ],
   "source": [
    "explorer_lesson_course = DatasetExplorer(lesson_course)\n",
    "explorer_lesson_course.explore_dataset()  # 893438"
   ]
  },
  {
   "cell_type": "markdown",
   "id": "76281841-d2bc-43f8-a16e-368167c7e8fc",
   "metadata": {
    "id": "76281841-d2bc-43f8-a16e-368167c7e8fc"
   },
   "source": [
    "#### Выводы и заключения\n",
    "- пропуски в `client_id` и `order_id`, вероятно,\n",
    "  <br>появились по причине ошибки и записи с ними необходимо исключить;\n",
    "- дубликатов строк в датафрейме не обнаружено;\n",
    "- у признаков `date_updated` и `suspend_till_date` нужно изменить тип данных на `datetime`"
   ]
  },
  {
   "cell_type": "markdown",
   "id": "c87a811d-bca8-40ba-8c83-37ba2265be91",
   "metadata": {
    "id": "c87a811d-bca8-40ba-8c83-37ba2265be91"
   },
   "source": [
    "### teachers"
   ]
  },
  {
   "cell_type": "code",
   "execution_count": 32,
   "id": "ad91abf3-97d4-49f0-a043-c0280776ab50",
   "metadata": {},
   "outputs": [
    {
     "name": "stdout",
     "output_type": "stream",
     "text": [
      "таблица teachers загружена, её размерность: (1656, 8)\n"
     ]
    }
   ],
   "source": [
    "TABLE_NAME = 'teachers'\n",
    "with psycopg.connect(**connection) as conn:\n",
    "    with conn.cursor() as cur:\n",
    "        cur.execute(f\"SELECT * FROM {TABLE_NAME}\")\n",
    "        data = cur.fetchall()\n",
    "        columns = [col[0] for col in cur.description]\n",
    "\n",
    "teachers = pd.DataFrame(data, columns=columns).drop('index', axis=1)\n",
    "print(f\"таблица {TABLE_NAME} загружена, её размерность: {teachers.shape}\")"
   ]
  },
  {
   "cell_type": "code",
   "execution_count": 33,
   "id": "dcc2ec32-f9aa-4f3c-9648-b79d6fea4eb6",
   "metadata": {
    "colab": {
     "base_uri": "https://localhost:8080/",
     "height": 1000
    },
    "id": "dcc2ec32-f9aa-4f3c-9648-b79d6fea4eb6",
    "outputId": "ebc450f9-835b-4d0f-e0d5-2efa889fa1bc"
   },
   "outputs": [
    {
     "name": "stdout",
     "output_type": "stream",
     "text": [
      "<class 'pandas.core.frame.DataFrame'>\n",
      "RangeIndex: 1656 entries, 0 to 1655\n",
      "Data columns (total 8 columns):\n",
      " #   Column                    Non-Null Count  Dtype  \n",
      "---  ------                    --------------  -----  \n",
      " 0   id                        1656 non-null   int64  \n",
      " 1   lessons_delivered         1656 non-null   float64\n",
      " 2   mean_lesson_price         1656 non-null   float64\n",
      " 3   lessons_given             1656 non-null   float64\n",
      " 4   lessons_started_fraction  1656 non-null   float64\n",
      " 5   lessons_per_pupil         1656 non-null   float64\n",
      " 6   money_recieved            1656 non-null   float64\n",
      " 7   blocked                   1656 non-null   int64  \n",
      "dtypes: float64(6), int64(2)\n",
      "memory usage: 103.6 KB\n"
     ]
    },
    {
     "data": {
      "text/html": [
       "<div>\n",
       "<style scoped>\n",
       "    .dataframe tbody tr th:only-of-type {\n",
       "        vertical-align: middle;\n",
       "    }\n",
       "\n",
       "    .dataframe tbody tr th {\n",
       "        vertical-align: top;\n",
       "    }\n",
       "\n",
       "    .dataframe thead th {\n",
       "        text-align: right;\n",
       "    }\n",
       "</style>\n",
       "<table border=\"1\" class=\"dataframe\">\n",
       "  <thead>\n",
       "    <tr style=\"text-align: right;\">\n",
       "      <th></th>\n",
       "      <th>id</th>\n",
       "      <th>lessons_delivered</th>\n",
       "      <th>mean_lesson_price</th>\n",
       "      <th>lessons_given</th>\n",
       "      <th>lessons_started_fraction</th>\n",
       "      <th>lessons_per_pupil</th>\n",
       "      <th>money_recieved</th>\n",
       "      <th>blocked</th>\n",
       "    </tr>\n",
       "  </thead>\n",
       "  <tbody>\n",
       "    <tr>\n",
       "      <th>316</th>\n",
       "      <td>192131</td>\n",
       "      <td>401.0</td>\n",
       "      <td>757.541899</td>\n",
       "      <td>179.0</td>\n",
       "      <td>0.115789</td>\n",
       "      <td>16.272727</td>\n",
       "      <td>135600.0</td>\n",
       "      <td>0</td>\n",
       "    </tr>\n",
       "    <tr>\n",
       "      <th>411</th>\n",
       "      <td>189372</td>\n",
       "      <td>1471.0</td>\n",
       "      <td>1402.412281</td>\n",
       "      <td>1140.0</td>\n",
       "      <td>0.247788</td>\n",
       "      <td>13.571429</td>\n",
       "      <td>1598750.0</td>\n",
       "      <td>0</td>\n",
       "    </tr>\n",
       "    <tr>\n",
       "      <th>443</th>\n",
       "      <td>77277</td>\n",
       "      <td>15.0</td>\n",
       "      <td>1500.000000</td>\n",
       "      <td>13.0</td>\n",
       "      <td>0.034483</td>\n",
       "      <td>13.000000</td>\n",
       "      <td>19500.0</td>\n",
       "      <td>0</td>\n",
       "    </tr>\n",
       "    <tr>\n",
       "      <th>1197</th>\n",
       "      <td>38188</td>\n",
       "      <td>48.0</td>\n",
       "      <td>969.696970</td>\n",
       "      <td>33.0</td>\n",
       "      <td>0.077519</td>\n",
       "      <td>3.300000</td>\n",
       "      <td>32000.0</td>\n",
       "      <td>1</td>\n",
       "    </tr>\n",
       "    <tr>\n",
       "      <th>1053</th>\n",
       "      <td>279654</td>\n",
       "      <td>56.0</td>\n",
       "      <td>2300.000000</td>\n",
       "      <td>10.0</td>\n",
       "      <td>0.033898</td>\n",
       "      <td>5.000000</td>\n",
       "      <td>23000.0</td>\n",
       "      <td>0</td>\n",
       "    </tr>\n",
       "  </tbody>\n",
       "</table>\n",
       "</div>"
      ],
      "text/plain": [
       "          id  lessons_delivered  mean_lesson_price  lessons_given  \\\n",
       "316   192131              401.0         757.541899          179.0   \n",
       "411   189372             1471.0        1402.412281         1140.0   \n",
       "443    77277               15.0        1500.000000           13.0   \n",
       "1197   38188               48.0         969.696970           33.0   \n",
       "1053  279654               56.0        2300.000000           10.0   \n",
       "\n",
       "      lessons_started_fraction  lessons_per_pupil  money_recieved  blocked  \n",
       "316                   0.115789          16.272727        135600.0        0  \n",
       "411                   0.247788          13.571429       1598750.0        0  \n",
       "443                   0.034483          13.000000         19500.0        0  \n",
       "1197                  0.077519           3.300000         32000.0        1  \n",
       "1053                  0.033898           5.000000         23000.0        0  "
      ]
     },
     "metadata": {},
     "output_type": "display_data"
    },
    {
     "name": "stdout",
     "output_type": "stream",
     "text": [
      "количество полных дубликатов строк: 0\n",
      "количество пропущенных значений:\n",
      "id                          0\n",
      "lessons_delivered           0\n",
      "mean_lesson_price           0\n",
      "lessons_given               0\n",
      "lessons_started_fraction    0\n",
      "lessons_per_pupil           0\n",
      "money_recieved              0\n",
      "blocked                     0\n",
      "dtype: int64\n",
      "Процент пропущенных значений в признаках:\n",
      "Количество уникальных значений в столбце 'id': 1656\n",
      "Соотношение уникальных значений и общего количества записей в столбце 'id': 1.00\n",
      "\n",
      "Соотношение классов целевой переменной:\n",
      "\t\t\tblocked\n",
      "1     557\n",
      "0    1099\n",
      "Name: count, dtype: int64\n"
     ]
    },
    {
     "data": {
      "image/png": "[encoded data removed]",
      "text/plain": [
       "<Figure size 640x480 with 1 Axes>"
      ]
     },
     "metadata": {},
     "output_type": "display_data"
    }
   ],
   "source": [
    "explorer_teachers = DatasetExplorer(teachers, target='blocked')\n",
    "explorer_teachers.explore_dataset()"
   ]
  },
  {
   "cell_type": "markdown",
   "id": "52d91f65-48fa-45f4-88ad-a35964e10365",
   "metadata": {
    "id": "52d91f65-48fa-45f4-88ad-a35964e10365"
   },
   "source": [
    "#### Выводы и заключения\n",
    "- в датафрейме пропусков не обнаружено;\n",
    "- дубликатов строк не обнаружено;\n",
    "- все представленные `id` учителей уникальны;\n",
    "- наблюдается дисбаланс классов целевой переменной."
   ]
  },
  {
   "cell_type": "markdown",
   "id": "58734721-be09-4494-93dc-b9a54b9e5125",
   "metadata": {
    "id": "58734721-be09-4494-93dc-b9a54b9e5125"
   },
   "source": [
    "### lessons"
   ]
  },
  {
   "cell_type": "code",
   "execution_count": 5,
   "id": "ec227f60-cab1-442e-963b-dc7750f52eaa",
   "metadata": {},
   "outputs": [
    {
     "name": "stdout",
     "output_type": "stream",
     "text": [
      "таблица lessons загружена, её размерность: (1191127, 9)\n"
     ]
    }
   ],
   "source": [
    "TABLE_NAME = 'lessons'\n",
    "with psycopg.connect(**connection) as conn:\n",
    "    with conn.cursor() as cur:\n",
    "        cur.execute(f\"SELECT * FROM {TABLE_NAME}\")\n",
    "        data = cur.fetchall()\n",
    "        columns = [col[0] for col in cur.description]\n",
    "\n",
    "lessons = pd.DataFrame(data, columns=columns).drop('index', axis=1)\n",
    "print(f\"таблица {TABLE_NAME} загружена, её размерность: {lessons.shape}\")"
   ]
  },
  {
   "cell_type": "code",
   "execution_count": 6,
   "id": "0cd9ce5b-0c2b-499f-b655-df9b0df227aa",
   "metadata": {
    "colab": {
     "base_uri": "https://localhost:8080/",
     "height": 1000
    },
    "id": "0cd9ce5b-0c2b-499f-b655-df9b0df227aa",
    "outputId": "c5421a9e-a75e-4e9a-fdf8-d24891659b76"
   },
   "outputs": [
    {
     "name": "stdout",
     "output_type": "stream",
     "text": [
      "<class 'pandas.core.frame.DataFrame'>\n",
      "RangeIndex: 1191127 entries, 0 to 1191126\n",
      "Data columns (total 9 columns):\n",
      " #   Column            Non-Null Count    Dtype  \n",
      "---  ------            --------------    -----  \n",
      " 0   id                1191127 non-null  int64  \n",
      " 1   lesson_course_id  1191127 non-null  int64  \n",
      " 2   lesson_date       1191127 non-null  object \n",
      " 3   time_from         1191127 non-null  object \n",
      " 4   time_to           1191127 non-null  object \n",
      " 5   home_task         4969 non-null     object \n",
      " 6   is_regular        1191127 non-null  int64  \n",
      " 7   amount_to_pay     593376 non-null   float64\n",
      " 8   amount_paid       8143 non-null     float64\n",
      "dtypes: float64(2), int64(3), object(4)\n",
      "memory usage: 81.8+ MB\n"
     ]
    },
    {
     "data": {
      "text/html": [
       "<div>\n",
       "<style scoped>\n",
       "    .dataframe tbody tr th:only-of-type {\n",
       "        vertical-align: middle;\n",
       "    }\n",
       "\n",
       "    .dataframe tbody tr th {\n",
       "        vertical-align: top;\n",
       "    }\n",
       "\n",
       "    .dataframe thead th {\n",
       "        text-align: right;\n",
       "    }\n",
       "</style>\n",
       "<table border=\"1\" class=\"dataframe\">\n",
       "  <thead>\n",
       "    <tr style=\"text-align: right;\">\n",
       "      <th></th>\n",
       "      <th>id</th>\n",
       "      <th>lesson_course_id</th>\n",
       "      <th>lesson_date</th>\n",
       "      <th>time_from</th>\n",
       "      <th>time_to</th>\n",
       "      <th>home_task</th>\n",
       "      <th>is_regular</th>\n",
       "      <th>amount_to_pay</th>\n",
       "      <th>amount_paid</th>\n",
       "    </tr>\n",
       "  </thead>\n",
       "  <tbody>\n",
       "    <tr>\n",
       "      <th>146087</th>\n",
       "      <td>1939880</td>\n",
       "      <td>402693</td>\n",
       "      <td>2021-11-11 00:00:00.000</td>\n",
       "      <td>15:00:00</td>\n",
       "      <td>16:00:00</td>\n",
       "      <td>None</td>\n",
       "      <td>0</td>\n",
       "      <td>800.0</td>\n",
       "      <td>NaN</td>\n",
       "    </tr>\n",
       "    <tr>\n",
       "      <th>324649</th>\n",
       "      <td>2297148</td>\n",
       "      <td>906838</td>\n",
       "      <td>2022-04-09 00:00:00.000</td>\n",
       "      <td>11:00:00</td>\n",
       "      <td>12:00:00</td>\n",
       "      <td>None</td>\n",
       "      <td>0</td>\n",
       "      <td>NaN</td>\n",
       "      <td>NaN</td>\n",
       "    </tr>\n",
       "    <tr>\n",
       "      <th>544408</th>\n",
       "      <td>2787710</td>\n",
       "      <td>581824</td>\n",
       "      <td>2023-07-29 00:00:00.000</td>\n",
       "      <td>09:00:00</td>\n",
       "      <td>10:00:00</td>\n",
       "      <td>None</td>\n",
       "      <td>0</td>\n",
       "      <td>450.0</td>\n",
       "      <td>NaN</td>\n",
       "    </tr>\n",
       "    <tr>\n",
       "      <th>205521</th>\n",
       "      <td>2050219</td>\n",
       "      <td>864168</td>\n",
       "      <td>2021-12-07 00:00:00.000</td>\n",
       "      <td>18:30:00</td>\n",
       "      <td>19:30:00</td>\n",
       "      <td>None</td>\n",
       "      <td>0</td>\n",
       "      <td>300.0</td>\n",
       "      <td>NaN</td>\n",
       "    </tr>\n",
       "    <tr>\n",
       "      <th>819580</th>\n",
       "      <td>3361398</td>\n",
       "      <td>1180405</td>\n",
       "      <td>2023-09-19 00:00:00.000</td>\n",
       "      <td>14:00:00</td>\n",
       "      <td>15:00:00</td>\n",
       "      <td>None</td>\n",
       "      <td>0</td>\n",
       "      <td>NaN</td>\n",
       "      <td>NaN</td>\n",
       "    </tr>\n",
       "  </tbody>\n",
       "</table>\n",
       "</div>"
      ],
      "text/plain": [
       "             id  lesson_course_id              lesson_date time_from  \\\n",
       "146087  1939880            402693  2021-11-11 00:00:00.000  15:00:00   \n",
       "324649  2297148            906838  2022-04-09 00:00:00.000  11:00:00   \n",
       "544408  2787710            581824  2023-07-29 00:00:00.000  09:00:00   \n",
       "205521  2050219            864168  2021-12-07 00:00:00.000  18:30:00   \n",
       "819580  3361398           1180405  2023-09-19 00:00:00.000  14:00:00   \n",
       "\n",
       "         time_to home_task  is_regular  amount_to_pay  amount_paid  \n",
       "146087  16:00:00      None           0          800.0          NaN  \n",
       "324649  12:00:00      None           0            NaN          NaN  \n",
       "544408  10:00:00      None           0          450.0          NaN  \n",
       "205521  19:30:00      None           0          300.0          NaN  \n",
       "819580  15:00:00      None           0            NaN          NaN  "
      ]
     },
     "metadata": {},
     "output_type": "display_data"
    },
    {
     "name": "stdout",
     "output_type": "stream",
     "text": [
      "количество полных дубликатов строк: 0\n",
      "количество пропущенных значений:\n",
      "id                        0\n",
      "lesson_course_id          0\n",
      "lesson_date               0\n",
      "time_from                 0\n",
      "time_to                   0\n",
      "home_task           1186158\n",
      "is_regular                0\n",
      "amount_to_pay        597751\n",
      "amount_paid         1182984\n",
      "dtype: int64\n"
     ]
    },
    {
     "data": {
      "image/png": "[encoded data removed]",
      "text/plain": [
       "<Figure size 640x480 with 2 Axes>"
      ]
     },
     "metadata": {},
     "output_type": "display_data"
    },
    {
     "name": "stdout",
     "output_type": "stream",
     "text": [
      "Процент пропущенных значений в признаках:\n",
      "home_task: 99.58%\n",
      "amount_to_pay: 50.18%\n",
      "amount_paid: 99.32%\n",
      "Количество уникальных значений в столбце 'id': 1191127\n",
      "Соотношение уникальных значений и общего количества записей в столбце 'id': 1.00\n",
      "\n",
      "Количество уникальных значений в столбце 'lesson_course_id': 203876\n",
      "Соотношение уникальных значений и общего количества записей в столбце 'lesson_course_id': 5.84\n",
      "\n",
      "Количество уникальных значений в столбце 'amount_paid': 61\n",
      "Соотношение уникальных значений и общего количества записей в столбце 'amount_paid': 19526.67\n",
      "\n"
     ]
    }
   ],
   "source": [
    "explorer_lessons = DatasetExplorer(lessons)\n",
    "explorer_lessons.explore_dataset()"
   ]
  },
  {
   "cell_type": "markdown",
   "id": "ae45b4be-1411-43b1-a237-2c686a382e42",
   "metadata": {
    "id": "ae45b4be-1411-43b1-a237-2c686a382e42"
   },
   "source": [
    "#### Выводы и заключения\n",
    "- дубликатов строк не обнаружено;\n",
    "- в признаках `home_task` и `amount_paid` более 99% пропусков -\n",
    "  <br>данные признаки будут исключены;\n",
    "- все представленные `id` уроков уникальны."
   ]
  },
  {
   "cell_type": "markdown",
   "id": "cea3f6cb-164b-4186-a2ba-33e012c52450",
   "metadata": {
    "id": "cea3f6cb-164b-4186-a2ba-33e012c52450"
   },
   "source": [
    "### orders"
   ]
  },
  {
   "cell_type": "code",
   "execution_count": null,
   "id": "ba03e506-05eb-4289-8f7a-5586a071abda",
   "metadata": {},
   "outputs": [],
   "source": [
    "TABLE_NAME = 'orders'\n",
    "with psycopg.connect(**connection) as conn:\n",
    "    with conn.cursor() as cur:\n",
    "        cur.execute(f\"SELECT * FROM {TABLE_NAME}\")# LIMIT 10\")\n",
    "        data = cur.fetchall()\n",
    "        columns = [col[0] for col in cur.description]\n",
    "\n",
    "orders = pd.DataFrame(data, columns=columns)\n",
    "print(f\"таблица {TABLE_NAME} загружена, её размерность: {orders.shape}\")"
   ]
  },
  {
   "cell_type": "code",
   "execution_count": 8,
   "id": "d6b09cde-3923-4454-83a6-ff7a7f8b2d38",
   "metadata": {
    "colab": {
     "base_uri": "https://localhost:8080/",
     "height": 1000
    },
    "id": "d6b09cde-3923-4454-83a6-ff7a7f8b2d38",
    "outputId": "5b20cd28-5928-4c2e-c219-8e1762a60043"
   },
   "outputs": [
    {
     "name": "stdout",
     "output_type": "stream",
     "text": [
      "<class 'pandas.core.frame.DataFrame'>\n",
      "Index: 1191861 entries, 0 to 437216\n",
      "Data columns (total 38 columns):\n",
      " #   Column                   Non-Null Count    Dtype  \n",
      "---  ------                   --------------    -----  \n",
      " 0   id                       1191861 non-null  int32  \n",
      " 1   order_date               1191861 non-null  object \n",
      " 2   subject_id               1181529 non-null  float32\n",
      " 3   purpose                  1025351 non-null  object \n",
      " 4   lesson_price             1191861 non-null  int32  \n",
      " 5   lesson_duration          1191861 non-null  int32  \n",
      " 6   lesson_place             31 non-null       object \n",
      " 7   home_metro_id            642447 non-null   float32\n",
      " 8   add_info                 1044688 non-null  object \n",
      " 9   start_date               705578 non-null   object \n",
      " 10  working_teacher_id       705988 non-null   float32\n",
      " 11  status_id                1191861 non-null  int32  \n",
      " 12  comments                 341468 non-null   object \n",
      " 13  prefered_teacher_id      4 non-null        float32\n",
      " 14  amount_to_pay            1191861 non-null  object \n",
      " 15  planned_lesson_number    1191861 non-null  int32  \n",
      " 16  first_lesson_date        166571 non-null   object \n",
      " 17  creator_id               579698 non-null   float32\n",
      " 18  pupil_category_new_id    1032470 non-null  float32\n",
      " 19  lessons_per_week         1191861 non-null  int32  \n",
      " 20  minimal_price            1191861 non-null  int32  \n",
      " 21  teacher_sex              1191861 non-null  int32  \n",
      " 22  teacher_experience_from  1191861 non-null  int32  \n",
      " 23  teacher_experience_to    1191861 non-null  int32  \n",
      " 24  lesson_place_new         1191861 non-null  int32  \n",
      " 25  pupil_knowledgelvl       1191861 non-null  int32  \n",
      " 26  teacher_age_from         1191861 non-null  int32  \n",
      " 27  teacher_age_to           1191861 non-null  int32  \n",
      " 28  chosen_teachers_only     1191861 non-null  int8   \n",
      " 29  no_teachers_available    1191861 non-null  int8   \n",
      " 30  source_id                1191861 non-null  int32  \n",
      " 31  original_order_id        582588 non-null   float32\n",
      " 32  client_id                1191861 non-null  int32  \n",
      " 33  additional_status_id     1042385 non-null  float32\n",
      " 34  max_metro_distance       13518 non-null    float32\n",
      " 35  estimated_fee            747152 non-null   object \n",
      " 36  payment_date             129665 non-null   object \n",
      " 37  is_display_to_teachers   1191861 non-null  int8   \n",
      "dtypes: float32(9), int32(16), int8(3), object(10)\n",
      "memory usage: 217.1+ MB\n"
     ]
    },
    {
     "data": {
      "text/html": [
       "<div>\n",
       "<style scoped>\n",
       "    .dataframe tbody tr th:only-of-type {\n",
       "        vertical-align: middle;\n",
       "    }\n",
       "\n",
       "    .dataframe tbody tr th {\n",
       "        vertical-align: top;\n",
       "    }\n",
       "\n",
       "    .dataframe thead th {\n",
       "        text-align: right;\n",
       "    }\n",
       "</style>\n",
       "<table border=\"1\" class=\"dataframe\">\n",
       "  <thead>\n",
       "    <tr style=\"text-align: right;\">\n",
       "      <th></th>\n",
       "      <th>id</th>\n",
       "      <th>order_date</th>\n",
       "      <th>subject_id</th>\n",
       "      <th>purpose</th>\n",
       "      <th>lesson_price</th>\n",
       "      <th>lesson_duration</th>\n",
       "      <th>lesson_place</th>\n",
       "      <th>home_metro_id</th>\n",
       "      <th>add_info</th>\n",
       "      <th>start_date</th>\n",
       "      <th>...</th>\n",
       "      <th>chosen_teachers_only</th>\n",
       "      <th>no_teachers_available</th>\n",
       "      <th>source_id</th>\n",
       "      <th>original_order_id</th>\n",
       "      <th>client_id</th>\n",
       "      <th>additional_status_id</th>\n",
       "      <th>max_metro_distance</th>\n",
       "      <th>estimated_fee</th>\n",
       "      <th>payment_date</th>\n",
       "      <th>is_display_to_teachers</th>\n",
       "    </tr>\n",
       "  </thead>\n",
       "  <tbody>\n",
       "    <tr>\n",
       "      <th>98116</th>\n",
       "      <td>1841564</td>\n",
       "      <td>2021-10-31 23:54:59.823</td>\n",
       "      <td>4.0</td>\n",
       "      <td>Разделы: общий курс.\\nДополнения: DALF.\\nКатег...</td>\n",
       "      <td>800</td>\n",
       "      <td>60</td>\n",
       "      <td>None</td>\n",
       "      <td>NaN</td>\n",
       "      <td>Место проведения занятий: дистанционно (наприм...</td>\n",
       "      <td>2021-11-01 13:43:11.323</td>\n",
       "      <td>...</td>\n",
       "      <td>0</td>\n",
       "      <td>0</td>\n",
       "      <td>16</td>\n",
       "      <td>NaN</td>\n",
       "      <td>865111</td>\n",
       "      <td>21.0</td>\n",
       "      <td>NaN</td>\n",
       "      <td>2160</td>\n",
       "      <td>2021-11-24 23:04:22.840</td>\n",
       "      <td>1</td>\n",
       "    </tr>\n",
       "    <tr>\n",
       "      <th>33971</th>\n",
       "      <td>1875538</td>\n",
       "      <td>2021-11-30 18:58:53.437</td>\n",
       "      <td>17.0</td>\n",
       "      <td>Разделы: финансовый менеджмент, финансы.\\nКате...</td>\n",
       "      <td>1000</td>\n",
       "      <td>60</td>\n",
       "      <td>None</td>\n",
       "      <td>NaN</td>\n",
       "      <td>Место проведения занятий: дистанционно (наприм...</td>\n",
       "      <td>None</td>\n",
       "      <td>...</td>\n",
       "      <td>1</td>\n",
       "      <td>0</td>\n",
       "      <td>2</td>\n",
       "      <td>NaN</td>\n",
       "      <td>876098</td>\n",
       "      <td>18.0</td>\n",
       "      <td>NaN</td>\n",
       "      <td>None</td>\n",
       "      <td>None</td>\n",
       "      <td>1</td>\n",
       "    </tr>\n",
       "    <tr>\n",
       "      <th>306105</th>\n",
       "      <td>2894117</td>\n",
       "      <td>2023-10-17 21:54:30.997</td>\n",
       "      <td>27.0</td>\n",
       "      <td>Разделы: общая подготовка.\\nКатегория ученика:...</td>\n",
       "      <td>1000</td>\n",
       "      <td>60</td>\n",
       "      <td>None</td>\n",
       "      <td>NaN</td>\n",
       "      <td>Место проведения занятий: дистанционно (наприм...</td>\n",
       "      <td>2023-10-18 13:10:57.637</td>\n",
       "      <td>...</td>\n",
       "      <td>0</td>\n",
       "      <td>0</td>\n",
       "      <td>23</td>\n",
       "      <td>NaN</td>\n",
       "      <td>1253154</td>\n",
       "      <td>10.0</td>\n",
       "      <td>NaN</td>\n",
       "      <td>2950</td>\n",
       "      <td>None</td>\n",
       "      <td>0</td>\n",
       "    </tr>\n",
       "    <tr>\n",
       "      <th>279235</th>\n",
       "      <td>2867247</td>\n",
       "      <td>2023-10-08 09:21:03.810</td>\n",
       "      <td>11.0</td>\n",
       "      <td>Дополнения: ЕГЭ, ОГЭ (ГИА).\\nКатегория ученика...</td>\n",
       "      <td>2500</td>\n",
       "      <td>60</td>\n",
       "      <td>None</td>\n",
       "      <td>189.0</td>\n",
       "      <td>Район: м. Митино.\\nМесто проведения занятий: у...</td>\n",
       "      <td>2023-10-08 12:31:02.527</td>\n",
       "      <td>...</td>\n",
       "      <td>0</td>\n",
       "      <td>0</td>\n",
       "      <td>23</td>\n",
       "      <td>NaN</td>\n",
       "      <td>1243345</td>\n",
       "      <td>13.0</td>\n",
       "      <td>NaN</td>\n",
       "      <td>8125</td>\n",
       "      <td>None</td>\n",
       "      <td>0</td>\n",
       "    </tr>\n",
       "    <tr>\n",
       "      <th>105287</th>\n",
       "      <td>2583906</td>\n",
       "      <td>2023-04-26 10:43:27.683</td>\n",
       "      <td>2.0</td>\n",
       "      <td>Дополнения: ОГЭ (ГИА).\\nКатегория ученика: шко...</td>\n",
       "      <td>1000</td>\n",
       "      <td>60</td>\n",
       "      <td>None</td>\n",
       "      <td>NaN</td>\n",
       "      <td>Место проведения занятий: дистанционно (наприм...</td>\n",
       "      <td>2023-04-26 10:45:04.347</td>\n",
       "      <td>...</td>\n",
       "      <td>0</td>\n",
       "      <td>0</td>\n",
       "      <td>14</td>\n",
       "      <td>2580376.0</td>\n",
       "      <td>966963</td>\n",
       "      <td>13.0</td>\n",
       "      <td>NaN</td>\n",
       "      <td>1500</td>\n",
       "      <td>None</td>\n",
       "      <td>1</td>\n",
       "    </tr>\n",
       "  </tbody>\n",
       "</table>\n",
       "<p>5 rows × 38 columns</p>\n",
       "</div>"
      ],
      "text/plain": [
       "             id               order_date  subject_id  \\\n",
       "98116   1841564  2021-10-31 23:54:59.823         4.0   \n",
       "33971   1875538  2021-11-30 18:58:53.437        17.0   \n",
       "306105  2894117  2023-10-17 21:54:30.997        27.0   \n",
       "279235  2867247  2023-10-08 09:21:03.810        11.0   \n",
       "105287  2583906  2023-04-26 10:43:27.683         2.0   \n",
       "\n",
       "                                                  purpose  lesson_price  \\\n",
       "98116   Разделы: общий курс.\\nДополнения: DALF.\\nКатег...           800   \n",
       "33971   Разделы: финансовый менеджмент, финансы.\\nКате...          1000   \n",
       "306105  Разделы: общая подготовка.\\nКатегория ученика:...          1000   \n",
       "279235  Дополнения: ЕГЭ, ОГЭ (ГИА).\\nКатегория ученика...          2500   \n",
       "105287  Дополнения: ОГЭ (ГИА).\\nКатегория ученика: шко...          1000   \n",
       "\n",
       "        lesson_duration lesson_place  home_metro_id  \\\n",
       "98116                60         None            NaN   \n",
       "33971                60         None            NaN   \n",
       "306105               60         None            NaN   \n",
       "279235               60         None          189.0   \n",
       "105287               60         None            NaN   \n",
       "\n",
       "                                                 add_info  \\\n",
       "98116   Место проведения занятий: дистанционно (наприм...   \n",
       "33971   Место проведения занятий: дистанционно (наприм...   \n",
       "306105  Место проведения занятий: дистанционно (наприм...   \n",
       "279235  Район: м. Митино.\\nМесто проведения занятий: у...   \n",
       "105287  Место проведения занятий: дистанционно (наприм...   \n",
       "\n",
       "                     start_date  ...  chosen_teachers_only  \\\n",
       "98116   2021-11-01 13:43:11.323  ...                     0   \n",
       "33971                      None  ...                     1   \n",
       "306105  2023-10-18 13:10:57.637  ...                     0   \n",
       "279235  2023-10-08 12:31:02.527  ...                     0   \n",
       "105287  2023-04-26 10:45:04.347  ...                     0   \n",
       "\n",
       "        no_teachers_available source_id  original_order_id client_id  \\\n",
       "98116                       0        16                NaN    865111   \n",
       "33971                       0         2                NaN    876098   \n",
       "306105                      0        23                NaN   1253154   \n",
       "279235                      0        23                NaN   1243345   \n",
       "105287                      0        14          2580376.0    966963   \n",
       "\n",
       "        additional_status_id max_metro_distance  estimated_fee  \\\n",
       "98116                   21.0                NaN           2160   \n",
       "33971                   18.0                NaN           None   \n",
       "306105                  10.0                NaN           2950   \n",
       "279235                  13.0                NaN           8125   \n",
       "105287                  13.0                NaN           1500   \n",
       "\n",
       "                   payment_date  is_display_to_teachers  \n",
       "98116   2021-11-24 23:04:22.840                       1  \n",
       "33971                      None                       1  \n",
       "306105                     None                       0  \n",
       "279235                     None                       0  \n",
       "105287                     None                       1  \n",
       "\n",
       "[5 rows x 38 columns]"
      ]
     },
     "metadata": {},
     "output_type": "display_data"
    },
    {
     "name": "stdout",
     "output_type": "stream",
     "text": [
      "количество полных дубликатов строк: 900\n"
     ]
    },
    {
     "data": {
      "image/png": "[encoded data removed]",
      "text/plain": [
       "<Figure size 640x480 with 1 Axes>"
      ]
     },
     "metadata": {},
     "output_type": "display_data"
    },
    {
     "name": "stdout",
     "output_type": "stream",
     "text": [
      "количество пропущенных значений:\n",
      "id                               0\n",
      "order_date                       0\n",
      "subject_id                   10332\n",
      "purpose                     166510\n",
      "lesson_price                     0\n",
      "lesson_duration                  0\n",
      "lesson_place               1191830\n",
      "home_metro_id               549414\n",
      "add_info                    147173\n",
      "start_date                  486283\n",
      "working_teacher_id          485873\n",
      "status_id                        0\n",
      "comments                    850393\n",
      "prefered_teacher_id        1191857\n",
      "amount_to_pay                    0\n",
      "planned_lesson_number            0\n",
      "first_lesson_date          1025290\n",
      "creator_id                  612163\n",
      "pupil_category_new_id       159391\n",
      "lessons_per_week                 0\n",
      "minimal_price                    0\n",
      "teacher_sex                      0\n",
      "teacher_experience_from          0\n",
      "teacher_experience_to            0\n",
      "lesson_place_new                 0\n",
      "pupil_knowledgelvl               0\n",
      "teacher_age_from                 0\n",
      "teacher_age_to                   0\n",
      "chosen_teachers_only             0\n",
      "no_teachers_available            0\n",
      "source_id                        0\n",
      "original_order_id           609273\n",
      "client_id                        0\n",
      "additional_status_id        149476\n",
      "max_metro_distance         1178343\n",
      "estimated_fee               444709\n",
      "payment_date               1062196\n",
      "is_display_to_teachers           0\n",
      "dtype: int64\n",
      "Процент пропущенных значений в признаках:\n",
      "subject_id: 0.87%\n",
      "purpose: 13.97%\n",
      "lesson_place: 100.00%\n",
      "home_metro_id: 46.10%\n",
      "add_info: 12.35%\n",
      "start_date: 40.80%\n",
      "working_teacher_id: 40.77%\n",
      "comments: 71.35%\n",
      "prefered_teacher_id: 100.00%\n",
      "first_lesson_date: 86.02%\n",
      "creator_id: 51.36%\n",
      "pupil_category_new_id: 13.37%\n",
      "original_order_id: 51.12%\n",
      "additional_status_id: 12.54%\n",
      "max_metro_distance: 98.87%\n",
      "estimated_fee: 37.31%\n",
      "payment_date: 89.12%\n",
      "Количество уникальных значений в столбце 'id': 1190961\n",
      "Соотношение уникальных значений и общего количества записей в столбце 'id': 1.00\n",
      "\n",
      "Количество уникальных значений в столбце 'subject_id': 30\n",
      "Соотношение уникальных значений и общего количества записей в столбце 'subject_id': 39728.70\n",
      "\n",
      "Количество уникальных значений в столбце 'home_metro_id': 2326\n",
      "Соотношение уникальных значений и общего количества записей в столбце 'home_metro_id': 512.41\n",
      "\n",
      "Количество уникальных значений в столбце 'working_teacher_id': 58534\n",
      "Соотношение уникальных значений и общего количества записей в столбце 'working_teacher_id': 20.36\n",
      "\n",
      "Количество уникальных значений в столбце 'status_id': 18\n",
      "Соотношение уникальных значений и общего количества записей в столбце 'status_id': 66214.50\n",
      "\n",
      "Количество уникальных значений в столбце 'prefered_teacher_id': 3\n",
      "Соотношение уникальных значений и общего количества записей в столбце 'prefered_teacher_id': 397287.00\n",
      "\n",
      "Количество уникальных значений в столбце 'creator_id': 107753\n",
      "Соотношение уникальных значений и общего количества записей в столбце 'creator_id': 11.06\n",
      "\n",
      "Количество уникальных значений в столбце 'pupil_category_new_id': 19\n",
      "Соотношение уникальных значений и общего количества записей в столбце 'pupil_category_new_id': 62729.53\n",
      "\n",
      "Количество уникальных значений в столбце 'source_id': 25\n",
      "Соотношение уникальных значений и общего количества записей в столбце 'source_id': 47674.44\n",
      "\n",
      "Количество уникальных значений в столбце 'original_order_id': 314931\n",
      "Соотношение уникальных значений и общего количества записей в столбце 'original_order_id': 3.78\n",
      "\n",
      "Количество уникальных значений в столбце 'client_id': 487595\n",
      "Соотношение уникальных значений и общего количества записей в столбце 'client_id': 2.44\n",
      "\n",
      "Количество уникальных значений в столбце 'additional_status_id': 27\n",
      "Соотношение уникальных значений и общего количества записей в столбце 'additional_status_id': 44143.00\n",
      "\n"
     ]
    }
   ],
   "source": [
    "explorer_orders = DatasetExplorer(orders)\n",
    "explorer_orders.explore_dataset() # 1191861"
   ]
  },
  {
   "cell_type": "markdown",
   "id": "d7ebab6e-5eb0-447c-aec3-ebd06768e896",
   "metadata": {
    "id": "d7ebab6e-5eb0-447c-aec3-ebd06768e896"
   },
   "source": [
    "#### Выводы и заключения\n",
    "- количество полных дубликатов строк менее 1% - их можно удалить;\n",
    "- в признаках `lesson_place`, `comments`, `prefered_teacher_id`,\n",
    "  <br>`first_lesson_date`, `max_metro_distance`, `payment_date`\n",
    "  <br>больше половины пропусков - эти признаки можно удалить."
   ]
  },
  {
   "cell_type": "markdown",
   "id": "4afd2e38-2a6a-4319-84cb-dc6f10579b52",
   "metadata": {
    "id": "4afd2e38-2a6a-4319-84cb-dc6f10579b52"
   },
   "source": [
    "## Предобработка данных"
   ]
  },
  {
   "cell_type": "markdown",
   "id": "78100289-66de-4b23-8bec-606970bcbab1",
   "metadata": {
    "id": "78100289-66de-4b23-8bec-606970bcbab1"
   },
   "source": [
    "### teacher_prices"
   ]
  },
  {
   "cell_type": "markdown",
   "id": "01d406b0-fc24-4eea-b5b1-8612daa2d8d0",
   "metadata": {
    "id": "01d406b0-fc24-4eea-b5b1-8612daa2d8d0"
   },
   "source": [
    "Заполнение пропущенных значений"
   ]
  },
  {
   "cell_type": "code",
   "execution_count": 21,
   "id": "fc0e65ab-973b-4cad-b18d-b02f2e96c0ba",
   "metadata": {
    "colab": {
     "base_uri": "https://localhost:8080/"
    },
    "id": "fc0e65ab-973b-4cad-b18d-b02f2e96c0ba",
    "outputId": "63133366-a857-406d-92b8-3c956ef9c3da",
    "scrolled": true
   },
   "outputs": [
    {
     "name": "stdout",
     "output_type": "stream",
     "text": [
      "<class 'pandas.core.frame.DataFrame'>\n",
      "RangeIndex: 432422 entries, 0 to 432421\n",
      "Data columns (total 6 columns):\n",
      " #   Column          Non-Null Count   Dtype  \n",
      "---  ------          --------------   -----  \n",
      " 0   date_update     432422 non-null  object \n",
      " 1   teacher_id      429104 non-null  float64\n",
      " 2   subject_id      432422 non-null  int64  \n",
      " 3   price           432422 non-null  int64  \n",
      " 4   price_external  432422 non-null  int64  \n",
      " 5   price_remote    432422 non-null  int64  \n",
      "dtypes: float64(1), int64(4), object(1)\n",
      "memory usage: 19.8+ MB\n"
     ]
    }
   ],
   "source": [
    "for index, row in teacher_prices.iterrows():\n",
    "    if pd.isnull(row['teacher_id']):\n",
    "        # Генерируем \"обрезанный\" date_update для сравнения\n",
    "        trimmed_date_update = row['date_update'][:-4]\n",
    "\n",
    "        # Проверяем наличие совпадения признака date_update (обрезанного) выше и ниже\n",
    "        prev_row = teacher_prices.iloc[index - 1] if index - 1 >= 0 else None\n",
    "        next_row = teacher_prices.iloc[index + 1] if index + 1 < len(teacher_prices) else None\n",
    "\n",
    "        if prev_row is not None and prev_row['date_update'][:-4] == trimmed_date_update:\n",
    "            teacher_prices.at[index, 'teacher_id'] = prev_row['teacher_id']\n",
    "        elif next_row is not None and next_row['date_update'][:-4] == trimmed_date_update:\n",
    "            teacher_prices.at[index, 'teacher_id'] = next_row['teacher_id']\n",
    "\n",
    "teacher_prices.info()"
   ]
  },
  {
   "cell_type": "code",
   "execution_count": 22,
   "id": "e39ba151-ba94-467e-af02-f37d537455c3",
   "metadata": {
    "colab": {
     "base_uri": "https://localhost:8080/",
     "height": 446
    },
    "id": "e39ba151-ba94-467e-af02-f37d537455c3",
    "outputId": "5cefd487-2b21-48e0-c251-c7d07951fd70"
   },
   "outputs": [
    {
     "name": "stdout",
     "output_type": "stream",
     "text": [
      "<class 'pandas.core.frame.DataFrame'>\n",
      "RangeIndex: 432422 entries, 0 to 432421\n",
      "Data columns (total 6 columns):\n",
      " #   Column          Non-Null Count   Dtype  \n",
      "---  ------          --------------   -----  \n",
      " 0   date_update     432422 non-null  object \n",
      " 1   teacher_id      429104 non-null  float64\n",
      " 2   subject_id      432422 non-null  int64  \n",
      " 3   price           432422 non-null  int64  \n",
      " 4   price_external  432422 non-null  int64  \n",
      " 5   price_remote    432422 non-null  int64  \n",
      "dtypes: float64(1), int64(4), object(1)\n",
      "memory usage: 19.8+ MB\n"
     ]
    },
    {
     "data": {
      "text/html": [
       "<div>\n",
       "<style scoped>\n",
       "    .dataframe tbody tr th:only-of-type {\n",
       "        vertical-align: middle;\n",
       "    }\n",
       "\n",
       "    .dataframe tbody tr th {\n",
       "        vertical-align: top;\n",
       "    }\n",
       "\n",
       "    .dataframe thead th {\n",
       "        text-align: right;\n",
       "    }\n",
       "</style>\n",
       "<table border=\"1\" class=\"dataframe\">\n",
       "  <thead>\n",
       "    <tr style=\"text-align: right;\">\n",
       "      <th></th>\n",
       "      <th>date_update</th>\n",
       "      <th>teacher_id</th>\n",
       "      <th>subject_id</th>\n",
       "      <th>price</th>\n",
       "      <th>price_external</th>\n",
       "      <th>price_remote</th>\n",
       "    </tr>\n",
       "  </thead>\n",
       "  <tbody>\n",
       "    <tr>\n",
       "      <th>205860</th>\n",
       "      <td>2018-01-10 16:09:30.653</td>\n",
       "      <td>136487.0</td>\n",
       "      <td>29</td>\n",
       "      <td>0</td>\n",
       "      <td>2000</td>\n",
       "      <td>1800</td>\n",
       "    </tr>\n",
       "    <tr>\n",
       "      <th>312084</th>\n",
       "      <td>2020-10-30 15:23:43.407</td>\n",
       "      <td>216935.0</td>\n",
       "      <td>2</td>\n",
       "      <td>0</td>\n",
       "      <td>500</td>\n",
       "      <td>400</td>\n",
       "    </tr>\n",
       "    <tr>\n",
       "      <th>55325</th>\n",
       "      <td>2012-03-28 12:28:09.153</td>\n",
       "      <td>38066.0</td>\n",
       "      <td>2</td>\n",
       "      <td>1000</td>\n",
       "      <td>1000</td>\n",
       "      <td>1000</td>\n",
       "    </tr>\n",
       "    <tr>\n",
       "      <th>401412</th>\n",
       "      <td>2023-03-31 01:43:04.790</td>\n",
       "      <td>290030.0</td>\n",
       "      <td>11</td>\n",
       "      <td>0</td>\n",
       "      <td>0</td>\n",
       "      <td>750</td>\n",
       "    </tr>\n",
       "    <tr>\n",
       "      <th>361784</th>\n",
       "      <td>2022-03-23 18:21:15.090</td>\n",
       "      <td>257632.0</td>\n",
       "      <td>18</td>\n",
       "      <td>750</td>\n",
       "      <td>850</td>\n",
       "      <td>750</td>\n",
       "    </tr>\n",
       "  </tbody>\n",
       "</table>\n",
       "</div>"
      ],
      "text/plain": [
       "                    date_update  teacher_id  subject_id  price  \\\n",
       "205860  2018-01-10 16:09:30.653    136487.0          29      0   \n",
       "312084  2020-10-30 15:23:43.407    216935.0           2      0   \n",
       "55325   2012-03-28 12:28:09.153     38066.0           2   1000   \n",
       "401412  2023-03-31 01:43:04.790    290030.0          11      0   \n",
       "361784  2022-03-23 18:21:15.090    257632.0          18    750   \n",
       "\n",
       "        price_external  price_remote  \n",
       "205860            2000          1800  \n",
       "312084             500           400  \n",
       "55325             1000          1000  \n",
       "401412               0           750  \n",
       "361784             850           750  "
      ]
     },
     "metadata": {},
     "output_type": "display_data"
    },
    {
     "name": "stdout",
     "output_type": "stream",
     "text": [
      "количество полных дубликатов строк: 864\n"
     ]
    },
    {
     "data": {
      "image/png": "[encoded data removed]",
      "text/plain": [
       "<Figure size 640x480 with 1 Axes>"
      ]
     },
     "metadata": {},
     "output_type": "display_data"
    },
    {
     "name": "stdout",
     "output_type": "stream",
     "text": [
      "количество пропущенных значений:\n",
      "date_update          0\n",
      "teacher_id        3318\n",
      "subject_id           0\n",
      "price                0\n",
      "price_external       0\n",
      "price_remote         0\n",
      "dtype: int64\n"
     ]
    },
    {
     "data": {
      "image/png": "[encoded data removed]",
      "text/plain": [
       "<Figure size 640x480 with 2 Axes>"
      ]
     },
     "metadata": {},
     "output_type": "display_data"
    },
    {
     "name": "stdout",
     "output_type": "stream",
     "text": [
      "Процент пропущенных значений в признаках:\n",
      "teacher_id: 0.77%\n",
      "Количество уникальных значений в столбце 'teacher_id': 271396\n",
      "Соотношение уникальных значений и общего количества записей в столбце 'teacher_id': 1.59\n",
      "\n",
      "Количество уникальных значений в столбце 'subject_id': 27\n",
      "Соотношение уникальных значений и общего количества записей в столбце 'subject_id': 16015.63\n",
      "\n"
     ]
    }
   ],
   "source": [
    "explorer_teacher_prices.explore_dataset()"
   ]
  },
  {
   "cell_type": "markdown",
   "id": "ebf7972c-33fa-4951-81d4-2ca15bd70d6f",
   "metadata": {
    "id": "ebf7972c-33fa-4951-81d4-2ca15bd70d6f"
   },
   "source": [
    "Выполнение предобработки датафрейма"
   ]
  },
  {
   "cell_type": "code",
   "execution_count": 23,
   "id": "79d758b0-7bcf-460f-86da-556e1d01b500",
   "metadata": {
    "id": "79d758b0-7bcf-460f-86da-556e1d01b500"
   },
   "outputs": [
    {
     "name": "stdout",
     "output_type": "stream",
     "text": [
      "<class 'pandas.core.frame.DataFrame'>\n",
      "Index: 428243 entries, 0 to 431557\n",
      "Data columns (total 6 columns):\n",
      " #   Column          Non-Null Count   Dtype         \n",
      "---  ------          --------------   -----         \n",
      " 0   date_update     428243 non-null  datetime64[ns]\n",
      " 1   teacher_id      428243 non-null  int64         \n",
      " 2   subject_id      428243 non-null  int64         \n",
      " 3   price           428243 non-null  int64         \n",
      " 4   price_external  428243 non-null  int64         \n",
      " 5   price_remote    428243 non-null  int64         \n",
      "dtypes: datetime64[ns](1), int64(5)\n",
      "memory usage: 22.9 MB\n"
     ]
    },
    {
     "data": {
      "text/html": [
       "<div>\n",
       "<style scoped>\n",
       "    .dataframe tbody tr th:only-of-type {\n",
       "        vertical-align: middle;\n",
       "    }\n",
       "\n",
       "    .dataframe tbody tr th {\n",
       "        vertical-align: top;\n",
       "    }\n",
       "\n",
       "    .dataframe thead th {\n",
       "        text-align: right;\n",
       "    }\n",
       "</style>\n",
       "<table border=\"1\" class=\"dataframe\">\n",
       "  <thead>\n",
       "    <tr style=\"text-align: right;\">\n",
       "      <th></th>\n",
       "      <th>date_update</th>\n",
       "      <th>teacher_id</th>\n",
       "      <th>subject_id</th>\n",
       "      <th>price</th>\n",
       "      <th>price_external</th>\n",
       "      <th>price_remote</th>\n",
       "    </tr>\n",
       "  </thead>\n",
       "  <tbody>\n",
       "    <tr>\n",
       "      <th>0</th>\n",
       "      <td>2008-01-20 19:47:18.587</td>\n",
       "      <td>300</td>\n",
       "      <td>2</td>\n",
       "      <td>1200</td>\n",
       "      <td>1200</td>\n",
       "      <td>1200</td>\n",
       "    </tr>\n",
       "    <tr>\n",
       "      <th>1</th>\n",
       "      <td>2008-01-22 00:33:39.660</td>\n",
       "      <td>125</td>\n",
       "      <td>13</td>\n",
       "      <td>0</td>\n",
       "      <td>0</td>\n",
       "      <td>3000</td>\n",
       "    </tr>\n",
       "    <tr>\n",
       "      <th>2</th>\n",
       "      <td>2008-01-22 00:33:39.660</td>\n",
       "      <td>125</td>\n",
       "      <td>14</td>\n",
       "      <td>0</td>\n",
       "      <td>0</td>\n",
       "      <td>3000</td>\n",
       "    </tr>\n",
       "    <tr>\n",
       "      <th>3</th>\n",
       "      <td>2008-01-22 00:37:01.963</td>\n",
       "      <td>91</td>\n",
       "      <td>8</td>\n",
       "      <td>2000</td>\n",
       "      <td>0</td>\n",
       "      <td>0</td>\n",
       "    </tr>\n",
       "    <tr>\n",
       "      <th>4</th>\n",
       "      <td>2008-02-08 21:27:19.177</td>\n",
       "      <td>372</td>\n",
       "      <td>33</td>\n",
       "      <td>400</td>\n",
       "      <td>400</td>\n",
       "      <td>400</td>\n",
       "    </tr>\n",
       "  </tbody>\n",
       "</table>\n",
       "</div>"
      ],
      "text/plain": [
       "              date_update  teacher_id  subject_id  price  price_external  \\\n",
       "0 2008-01-20 19:47:18.587         300           2   1200            1200   \n",
       "1 2008-01-22 00:33:39.660         125          13      0               0   \n",
       "2 2008-01-22 00:33:39.660         125          14      0               0   \n",
       "3 2008-01-22 00:37:01.963          91           8   2000               0   \n",
       "4 2008-02-08 21:27:19.177         372          33    400             400   \n",
       "\n",
       "   price_remote  \n",
       "0          1200  \n",
       "1          3000  \n",
       "2          3000  \n",
       "3             0  \n",
       "4           400  "
      ]
     },
     "metadata": {},
     "output_type": "display_data"
    }
   ],
   "source": [
    "teacher_prices = explorer_teacher_prices.data_preprocessing(\n",
    "    date_features = 'date_update',\n",
    "    int_features = 'teacher_id'\n",
    ")"
   ]
  },
  {
   "cell_type": "markdown",
   "id": "9c76dde3-995c-4fd0-bc7f-34ad02c21c80",
   "metadata": {
    "id": "9c76dde3-995c-4fd0-bc7f-34ad02c21c80"
   },
   "source": [
    "#### Выводы и заключения\n",
    "- заполнены некоторые пропущенные значения `teacher_id` по совпадению признака `date_update`;\n",
    "- количество дубликатов практически не изменилось после заполнения пропусков;\n",
    "- дубликаты удалены;\n",
    "- количество оставшихся пропусков около 1%;\n",
    "- пропуски удалены"
   ]
  },
  {
   "cell_type": "markdown",
   "id": "g6launDO8bBB",
   "metadata": {
    "id": "g6launDO8bBB"
   },
   "source": [
    "### teachers_info"
   ]
  },
  {
   "cell_type": "code",
   "execution_count": 26,
   "id": "26a61fe8-db90-4e16-b7a5-5226e994f225",
   "metadata": {
    "colab": {
     "base_uri": "https://localhost:8080/"
    },
    "id": "26a61fe8-db90-4e16-b7a5-5226e994f225",
    "outputId": "af2f6e11-88c1-4c0f-fe89-066fdbb27cd8"
   },
   "outputs": [
    {
     "name": "stdout",
     "output_type": "stream",
     "text": [
      "<class 'pandas.core.frame.DataFrame'>\n",
      "RangeIndex: 307972 entries, 0 to 307971\n",
      "Data columns (total 15 columns):\n",
      " #   Column                   Non-Null Count   Dtype  \n",
      "---  ------                   --------------   -----  \n",
      " 0   id                       307972 non-null  int64  \n",
      " 1   reg_date                 307972 non-null  object \n",
      " 2   birth_date               307972 non-null  object \n",
      " 3   teaching_start_date      307972 non-null  object \n",
      " 4   is_email_confirmed       307972 non-null  int64  \n",
      " 5   lesson_duration          307972 non-null  int64  \n",
      " 6   lesson_cost              307972 non-null  int64  \n",
      " 7   is_display               307972 non-null  int64  \n",
      " 8   last_visited             235837 non-null  object \n",
      " 9   is_pupils_needed         11208 non-null   float64\n",
      " 10  is_cell_phone_confirmed  307972 non-null  int64  \n",
      " 11  area_id                  307972 non-null  int64  \n",
      " 12  sex                      307972 non-null  int64  \n",
      " 13  orders_allowed           307972 non-null  int64  \n",
      " 14  review_num               307972 non-null  int64  \n",
      "dtypes: float64(1), int64(10), object(4)\n",
      "memory usage: 35.2+ MB\n"
     ]
    }
   ],
   "source": [
    "teachers_info.info()"
   ]
  },
  {
   "cell_type": "code",
   "execution_count": 27,
   "id": "959bfaf7-c25e-495a-aeb8-bd27ed17a7d0",
   "metadata": {},
   "outputs": [
    {
     "name": "stdout",
     "output_type": "stream",
     "text": [
      "<class 'pandas.core.frame.DataFrame'>\n",
      "RangeIndex: 307972 entries, 0 to 307971\n",
      "Data columns (total 13 columns):\n",
      " #   Column                   Non-Null Count   Dtype         \n",
      "---  ------                   --------------   -----         \n",
      " 0   id                       307972 non-null  int64         \n",
      " 1   reg_date                 307972 non-null  datetime64[ns]\n",
      " 2   birth_date               307972 non-null  datetime64[ns]\n",
      " 3   teaching_start_date      307972 non-null  datetime64[ns]\n",
      " 4   is_email_confirmed       307972 non-null  int64         \n",
      " 5   lesson_duration          307972 non-null  int64         \n",
      " 6   lesson_cost              307972 non-null  int64         \n",
      " 7   is_display               307972 non-null  int64         \n",
      " 8   last_visited             235837 non-null  datetime64[ns]\n",
      " 9   is_cell_phone_confirmed  307972 non-null  int64         \n",
      " 10  area_id                  307972 non-null  int64         \n",
      " 11  sex                      307972 non-null  int64         \n",
      " 12  review_num               307972 non-null  int64         \n",
      "dtypes: datetime64[ns](4), int64(9)\n",
      "memory usage: 30.5 MB\n"
     ]
    },
    {
     "data": {
      "text/html": [
       "<div>\n",
       "<style scoped>\n",
       "    .dataframe tbody tr th:only-of-type {\n",
       "        vertical-align: middle;\n",
       "    }\n",
       "\n",
       "    .dataframe tbody tr th {\n",
       "        vertical-align: top;\n",
       "    }\n",
       "\n",
       "    .dataframe thead th {\n",
       "        text-align: right;\n",
       "    }\n",
       "</style>\n",
       "<table border=\"1\" class=\"dataframe\">\n",
       "  <thead>\n",
       "    <tr style=\"text-align: right;\">\n",
       "      <th></th>\n",
       "      <th>id</th>\n",
       "      <th>reg_date</th>\n",
       "      <th>birth_date</th>\n",
       "      <th>teaching_start_date</th>\n",
       "      <th>is_email_confirmed</th>\n",
       "      <th>lesson_duration</th>\n",
       "      <th>lesson_cost</th>\n",
       "      <th>is_display</th>\n",
       "      <th>last_visited</th>\n",
       "      <th>is_cell_phone_confirmed</th>\n",
       "      <th>area_id</th>\n",
       "      <th>sex</th>\n",
       "      <th>review_num</th>\n",
       "    </tr>\n",
       "  </thead>\n",
       "  <tbody>\n",
       "    <tr>\n",
       "      <th>0</th>\n",
       "      <td>33</td>\n",
       "      <td>2007-12-24 19:26:46</td>\n",
       "      <td>1983-06-05</td>\n",
       "      <td>1989-09-01</td>\n",
       "      <td>0</td>\n",
       "      <td>60</td>\n",
       "      <td>1000</td>\n",
       "      <td>1</td>\n",
       "      <td>2022-10-24 16:48:38.410</td>\n",
       "      <td>0</td>\n",
       "      <td>1</td>\n",
       "      <td>1</td>\n",
       "      <td>6</td>\n",
       "    </tr>\n",
       "    <tr>\n",
       "      <th>1</th>\n",
       "      <td>46</td>\n",
       "      <td>2007-12-24 19:26:46</td>\n",
       "      <td>1980-02-12</td>\n",
       "      <td>2003-09-01</td>\n",
       "      <td>0</td>\n",
       "      <td>60</td>\n",
       "      <td>500</td>\n",
       "      <td>0</td>\n",
       "      <td>NaT</td>\n",
       "      <td>0</td>\n",
       "      <td>1</td>\n",
       "      <td>3</td>\n",
       "      <td>0</td>\n",
       "    </tr>\n",
       "    <tr>\n",
       "      <th>2</th>\n",
       "      <td>51</td>\n",
       "      <td>2007-12-24 19:26:46</td>\n",
       "      <td>1965-04-30</td>\n",
       "      <td>1988-09-01</td>\n",
       "      <td>0</td>\n",
       "      <td>60</td>\n",
       "      <td>1500</td>\n",
       "      <td>0</td>\n",
       "      <td>2022-09-26 09:43:56.123</td>\n",
       "      <td>0</td>\n",
       "      <td>1</td>\n",
       "      <td>2</td>\n",
       "      <td>0</td>\n",
       "    </tr>\n",
       "    <tr>\n",
       "      <th>3</th>\n",
       "      <td>52</td>\n",
       "      <td>2007-12-24 19:26:46</td>\n",
       "      <td>1988-07-06</td>\n",
       "      <td>2006-09-01</td>\n",
       "      <td>0</td>\n",
       "      <td>60</td>\n",
       "      <td>1000</td>\n",
       "      <td>1</td>\n",
       "      <td>2020-04-03 15:53:50.867</td>\n",
       "      <td>0</td>\n",
       "      <td>1</td>\n",
       "      <td>2</td>\n",
       "      <td>2</td>\n",
       "    </tr>\n",
       "    <tr>\n",
       "      <th>4</th>\n",
       "      <td>54</td>\n",
       "      <td>2007-12-24 19:26:46</td>\n",
       "      <td>1985-09-30</td>\n",
       "      <td>2004-01-01</td>\n",
       "      <td>0</td>\n",
       "      <td>45</td>\n",
       "      <td>400</td>\n",
       "      <td>0</td>\n",
       "      <td>NaT</td>\n",
       "      <td>0</td>\n",
       "      <td>1</td>\n",
       "      <td>3</td>\n",
       "      <td>0</td>\n",
       "    </tr>\n",
       "  </tbody>\n",
       "</table>\n",
       "</div>"
      ],
      "text/plain": [
       "   id            reg_date birth_date teaching_start_date  is_email_confirmed  \\\n",
       "0  33 2007-12-24 19:26:46 1983-06-05          1989-09-01                   0   \n",
       "1  46 2007-12-24 19:26:46 1980-02-12          2003-09-01                   0   \n",
       "2  51 2007-12-24 19:26:46 1965-04-30          1988-09-01                   0   \n",
       "3  52 2007-12-24 19:26:46 1988-07-06          2006-09-01                   0   \n",
       "4  54 2007-12-24 19:26:46 1985-09-30          2004-01-01                   0   \n",
       "\n",
       "   lesson_duration  lesson_cost  is_display            last_visited  \\\n",
       "0               60         1000           1 2022-10-24 16:48:38.410   \n",
       "1               60          500           0                     NaT   \n",
       "2               60         1500           0 2022-09-26 09:43:56.123   \n",
       "3               60         1000           1 2020-04-03 15:53:50.867   \n",
       "4               45          400           0                     NaT   \n",
       "\n",
       "   is_cell_phone_confirmed  area_id  sex  review_num  \n",
       "0                        0        1    1           6  \n",
       "1                        0        1    3           0  \n",
       "2                        0        1    2           0  \n",
       "3                        0        1    2           2  \n",
       "4                        0        1    3           0  "
      ]
     },
     "metadata": {},
     "output_type": "display_data"
    }
   ],
   "source": [
    "teachers_info = explorer_teachers_info.data_preprocessing(\n",
    "    dropnas=False,\n",
    "    date_features = ['reg_date', 'birth_date', 'teaching_start_date', 'last_visited'],\n",
    "    int_features=None,\n",
    "    drop_features = ['is_pupils_needed', 'orders_allowed']\n",
    ")"
   ]
  },
  {
   "cell_type": "markdown",
   "id": "69142c02-2ccf-4f80-b418-3f0d60c696b9",
   "metadata": {},
   "source": [
    "#### Выводы и заключения\n",
    "- у признаков изменены типы данных по необходимости;\n",
    "- удалены неинформативные и дающие утечку признаки;\n",
    "- удалены дубликаты"
   ]
  },
  {
   "cell_type": "markdown",
   "id": "1c9f32fc-798c-4445-ab2b-eb744a345345",
   "metadata": {},
   "source": [
    "### lesson_course"
   ]
  },
  {
   "cell_type": "code",
   "execution_count": 30,
   "id": "7e34afda-96dc-4af3-abad-2130af5d50c8",
   "metadata": {},
   "outputs": [
    {
     "name": "stdout",
     "output_type": "stream",
     "text": [
      "<class 'pandas.core.frame.DataFrame'>\n",
      "RangeIndex: 893438 entries, 0 to 893437\n",
      "Data columns (total 10 columns):\n",
      " #   Column             Non-Null Count   Dtype  \n",
      "---  ------             --------------   -----  \n",
      " 0   id                 893438 non-null  int64  \n",
      " 1   client_id          893437 non-null  float64\n",
      " 2   teacher_id         893438 non-null  int64  \n",
      " 3   order_id           890132 non-null  float64\n",
      " 4   lesson_place       893438 non-null  int64  \n",
      " 5   lesson_price       893438 non-null  int64  \n",
      " 6   is_active          893438 non-null  int64  \n",
      " 7   lesson_duration    893438 non-null  int64  \n",
      " 8   date_updated       893438 non-null  object \n",
      " 9   suspend_till_date  893438 non-null  object \n",
      "dtypes: float64(2), int64(6), object(2)\n",
      "memory usage: 68.2+ MB\n"
     ]
    }
   ],
   "source": [
    "lesson_course.info()"
   ]
  },
  {
   "cell_type": "code",
   "execution_count": 31,
   "id": "0c2898ca-5312-4fa3-941e-640284a6303c",
   "metadata": {
    "id": "0d796ccc-8f39-489e-a17f-9fc3baa99089"
   },
   "outputs": [
    {
     "name": "stdout",
     "output_type": "stream",
     "text": [
      "<class 'pandas.core.frame.DataFrame'>\n",
      "Index: 890131 entries, 0 to 893437\n",
      "Data columns (total 10 columns):\n",
      " #   Column             Non-Null Count   Dtype         \n",
      "---  ------             --------------   -----         \n",
      " 0   id                 890131 non-null  int64         \n",
      " 1   client_id          890131 non-null  int64         \n",
      " 2   teacher_id         890131 non-null  int64         \n",
      " 3   order_id           890131 non-null  int64         \n",
      " 4   lesson_place       890131 non-null  int64         \n",
      " 5   lesson_price       890131 non-null  int64         \n",
      " 6   is_active          890131 non-null  int64         \n",
      " 7   lesson_duration    890131 non-null  int64         \n",
      " 8   date_updated       890131 non-null  datetime64[ns]\n",
      " 9   suspend_till_date  890131 non-null  datetime64[ns]\n",
      "dtypes: datetime64[ns](2), int64(8)\n",
      "memory usage: 74.7 MB\n"
     ]
    },
    {
     "data": {
      "text/html": [
       "<div>\n",
       "<style scoped>\n",
       "    .dataframe tbody tr th:only-of-type {\n",
       "        vertical-align: middle;\n",
       "    }\n",
       "\n",
       "    .dataframe tbody tr th {\n",
       "        vertical-align: top;\n",
       "    }\n",
       "\n",
       "    .dataframe thead th {\n",
       "        text-align: right;\n",
       "    }\n",
       "</style>\n",
       "<table border=\"1\" class=\"dataframe\">\n",
       "  <thead>\n",
       "    <tr style=\"text-align: right;\">\n",
       "      <th></th>\n",
       "      <th>id</th>\n",
       "      <th>client_id</th>\n",
       "      <th>teacher_id</th>\n",
       "      <th>order_id</th>\n",
       "      <th>lesson_place</th>\n",
       "      <th>lesson_price</th>\n",
       "      <th>is_active</th>\n",
       "      <th>lesson_duration</th>\n",
       "      <th>date_updated</th>\n",
       "      <th>suspend_till_date</th>\n",
       "    </tr>\n",
       "  </thead>\n",
       "  <tbody>\n",
       "    <tr>\n",
       "      <th>0</th>\n",
       "      <td>240884</td>\n",
       "      <td>427831</td>\n",
       "      <td>133738</td>\n",
       "      <td>718009</td>\n",
       "      <td>2</td>\n",
       "      <td>1000</td>\n",
       "      <td>1</td>\n",
       "      <td>60</td>\n",
       "      <td>2021-04-25 23:08:17.883</td>\n",
       "      <td>2018-08-27 00:00:00.000</td>\n",
       "    </tr>\n",
       "    <tr>\n",
       "      <th>1</th>\n",
       "      <td>242243</td>\n",
       "      <td>429075</td>\n",
       "      <td>106838</td>\n",
       "      <td>720876</td>\n",
       "      <td>1</td>\n",
       "      <td>0</td>\n",
       "      <td>0</td>\n",
       "      <td>0</td>\n",
       "      <td>2021-12-03 23:05:52.873</td>\n",
       "      <td>2020-08-01 00:00:00.000</td>\n",
       "    </tr>\n",
       "    <tr>\n",
       "      <th>2</th>\n",
       "      <td>242364</td>\n",
       "      <td>429089</td>\n",
       "      <td>14700</td>\n",
       "      <td>720912</td>\n",
       "      <td>1</td>\n",
       "      <td>0</td>\n",
       "      <td>0</td>\n",
       "      <td>0</td>\n",
       "      <td>2022-05-25 07:27:15.077</td>\n",
       "      <td>2019-09-08 14:22:41.940</td>\n",
       "    </tr>\n",
       "    <tr>\n",
       "      <th>3</th>\n",
       "      <td>242476</td>\n",
       "      <td>428940</td>\n",
       "      <td>138783</td>\n",
       "      <td>721219</td>\n",
       "      <td>1</td>\n",
       "      <td>0</td>\n",
       "      <td>0</td>\n",
       "      <td>0</td>\n",
       "      <td>2021-06-22 20:36:53.287</td>\n",
       "      <td>2018-09-03 00:00:00.000</td>\n",
       "    </tr>\n",
       "    <tr>\n",
       "      <th>4</th>\n",
       "      <td>242942</td>\n",
       "      <td>424704</td>\n",
       "      <td>3476</td>\n",
       "      <td>720891</td>\n",
       "      <td>4</td>\n",
       "      <td>600</td>\n",
       "      <td>0</td>\n",
       "      <td>60</td>\n",
       "      <td>2021-12-19 13:29:29.257</td>\n",
       "      <td>2022-03-20 00:00:00.000</td>\n",
       "    </tr>\n",
       "  </tbody>\n",
       "</table>\n",
       "</div>"
      ],
      "text/plain": [
       "       id  client_id  teacher_id  order_id  lesson_place  lesson_price  \\\n",
       "0  240884     427831      133738    718009             2          1000   \n",
       "1  242243     429075      106838    720876             1             0   \n",
       "2  242364     429089       14700    720912             1             0   \n",
       "3  242476     428940      138783    721219             1             0   \n",
       "4  242942     424704        3476    720891             4           600   \n",
       "\n",
       "   is_active  lesson_duration            date_updated       suspend_till_date  \n",
       "0          1               60 2021-04-25 23:08:17.883 2018-08-27 00:00:00.000  \n",
       "1          0                0 2021-12-03 23:05:52.873 2020-08-01 00:00:00.000  \n",
       "2          0                0 2022-05-25 07:27:15.077 2019-09-08 14:22:41.940  \n",
       "3          0                0 2021-06-22 20:36:53.287 2018-09-03 00:00:00.000  \n",
       "4          0               60 2021-12-19 13:29:29.257 2022-03-20 00:00:00.000  "
      ]
     },
     "metadata": {},
     "output_type": "display_data"
    }
   ],
   "source": [
    "lesson_course = explorer_lesson_course.data_preprocessing(\n",
    "    dropnas=True,\n",
    "    date_features = ['date_updated', 'suspend_till_date'],\n",
    "    int_features = ['client_id', 'order_id'],\n",
    "    drop_features=None\n",
    ")"
   ]
  },
  {
   "cell_type": "markdown",
   "id": "39cd70d1-c7ab-48ac-80ce-7f43e1849f24",
   "metadata": {},
   "source": [
    "#### Выводы и заключения\n",
    "- удалены дубликаты;\n",
    "- удалены пропущенные значения;\n",
    "- изменены типы данных по необходимости"
   ]
  },
  {
   "cell_type": "markdown",
   "id": "5cf48467-c4d3-4da3-90ef-bdfcd4573005",
   "metadata": {},
   "source": [
    "### lessons"
   ]
  },
  {
   "cell_type": "code",
   "execution_count": 7,
   "id": "c01ddb49-5f38-4148-96d2-ca2492d81e49",
   "metadata": {},
   "outputs": [
    {
     "name": "stdout",
     "output_type": "stream",
     "text": [
      "<class 'pandas.core.frame.DataFrame'>\n",
      "RangeIndex: 1191127 entries, 0 to 1191126\n",
      "Data columns (total 9 columns):\n",
      " #   Column            Non-Null Count    Dtype  \n",
      "---  ------            --------------    -----  \n",
      " 0   id                1191127 non-null  int64  \n",
      " 1   lesson_course_id  1191127 non-null  int64  \n",
      " 2   lesson_date       1191127 non-null  object \n",
      " 3   time_from         1191127 non-null  object \n",
      " 4   time_to           1191127 non-null  object \n",
      " 5   home_task         4969 non-null     object \n",
      " 6   is_regular        1191127 non-null  int64  \n",
      " 7   amount_to_pay     593376 non-null   float64\n",
      " 8   amount_paid       8143 non-null     float64\n",
      "dtypes: float64(2), int64(3), object(4)\n",
      "memory usage: 81.8+ MB\n"
     ]
    }
   ],
   "source": [
    "lessons.info()"
   ]
  },
  {
   "cell_type": "code",
   "execution_count": 8,
   "id": "85b3552e-2ea3-427a-964e-1f9ec5a5e593",
   "metadata": {},
   "outputs": [
    {
     "name": "stdout",
     "output_type": "stream",
     "text": [
      "<class 'pandas.core.frame.DataFrame'>\n",
      "RangeIndex: 1191127 entries, 0 to 1191126\n",
      "Data columns (total 7 columns):\n",
      " #   Column            Non-Null Count    Dtype         \n",
      "---  ------            --------------    -----         \n",
      " 0   id                1191127 non-null  int64         \n",
      " 1   lesson_course_id  1191127 non-null  int64         \n",
      " 2   lesson_date       1191127 non-null  datetime64[ns]\n",
      " 3   time_from         1191127 non-null  object        \n",
      " 4   time_to           1191127 non-null  object        \n",
      " 5   is_regular        1191127 non-null  int64         \n",
      " 6   amount_to_pay     593376 non-null   float64       \n",
      "dtypes: datetime64[ns](1), float64(1), int64(3), object(2)\n",
      "memory usage: 63.6+ MB\n"
     ]
    },
    {
     "data": {
      "text/html": [
       "<div>\n",
       "<style scoped>\n",
       "    .dataframe tbody tr th:only-of-type {\n",
       "        vertical-align: middle;\n",
       "    }\n",
       "\n",
       "    .dataframe tbody tr th {\n",
       "        vertical-align: top;\n",
       "    }\n",
       "\n",
       "    .dataframe thead th {\n",
       "        text-align: right;\n",
       "    }\n",
       "</style>\n",
       "<table border=\"1\" class=\"dataframe\">\n",
       "  <thead>\n",
       "    <tr style=\"text-align: right;\">\n",
       "      <th></th>\n",
       "      <th>id</th>\n",
       "      <th>lesson_course_id</th>\n",
       "      <th>lesson_date</th>\n",
       "      <th>time_from</th>\n",
       "      <th>time_to</th>\n",
       "      <th>is_regular</th>\n",
       "      <th>amount_to_pay</th>\n",
       "    </tr>\n",
       "  </thead>\n",
       "  <tbody>\n",
       "    <tr>\n",
       "      <th>0</th>\n",
       "      <td>135797</td>\n",
       "      <td>347</td>\n",
       "      <td>2023-04-14</td>\n",
       "      <td>12:45:00</td>\n",
       "      <td>13:50:00</td>\n",
       "      <td>1</td>\n",
       "      <td>NaN</td>\n",
       "    </tr>\n",
       "    <tr>\n",
       "      <th>1</th>\n",
       "      <td>283596</td>\n",
       "      <td>185756</td>\n",
       "      <td>2022-11-15</td>\n",
       "      <td>20:30:00</td>\n",
       "      <td>21:30:00</td>\n",
       "      <td>0</td>\n",
       "      <td>NaN</td>\n",
       "    </tr>\n",
       "    <tr>\n",
       "      <th>2</th>\n",
       "      <td>322184</td>\n",
       "      <td>184189</td>\n",
       "      <td>2022-12-15</td>\n",
       "      <td>16:00:00</td>\n",
       "      <td>17:30:00</td>\n",
       "      <td>0</td>\n",
       "      <td>NaN</td>\n",
       "    </tr>\n",
       "    <tr>\n",
       "      <th>3</th>\n",
       "      <td>371621</td>\n",
       "      <td>213849</td>\n",
       "      <td>2023-02-13</td>\n",
       "      <td>19:30:00</td>\n",
       "      <td>20:30:00</td>\n",
       "      <td>0</td>\n",
       "      <td>NaN</td>\n",
       "    </tr>\n",
       "    <tr>\n",
       "      <th>4</th>\n",
       "      <td>375586</td>\n",
       "      <td>196475</td>\n",
       "      <td>2023-02-16</td>\n",
       "      <td>10:00:00</td>\n",
       "      <td>11:00:00</td>\n",
       "      <td>0</td>\n",
       "      <td>NaN</td>\n",
       "    </tr>\n",
       "  </tbody>\n",
       "</table>\n",
       "</div>"
      ],
      "text/plain": [
       "       id  lesson_course_id lesson_date time_from   time_to  is_regular  \\\n",
       "0  135797               347  2023-04-14  12:45:00  13:50:00           1   \n",
       "1  283596            185756  2022-11-15  20:30:00  21:30:00           0   \n",
       "2  322184            184189  2022-12-15  16:00:00  17:30:00           0   \n",
       "3  371621            213849  2023-02-13  19:30:00  20:30:00           0   \n",
       "4  375586            196475  2023-02-16  10:00:00  11:00:00           0   \n",
       "\n",
       "   amount_to_pay  \n",
       "0            NaN  \n",
       "1            NaN  \n",
       "2            NaN  \n",
       "3            NaN  \n",
       "4            NaN  "
      ]
     },
     "metadata": {},
     "output_type": "display_data"
    }
   ],
   "source": [
    "lessons = explorer_lessons.data_preprocessing(dropnas=False,\n",
    "                                              date_features = 'lesson_date',\n",
    "                                              int_features = None,\n",
    "                                              drop_features=['home_task', 'amount_paid'])"
   ]
  },
  {
   "cell_type": "markdown",
   "id": "e128146e-0096-4a04-9d62-57252e504349",
   "metadata": {},
   "source": [
    "#### Выводы и заключения\n",
    "- удалены дубликаты строк;\n",
    "- удалены неинформативные признаки;\n",
    "- изменены типы данных при необходимости"
   ]
  },
  {
   "cell_type": "markdown",
   "id": "b21241cc-a031-48fe-9ef6-6ad847cc7823",
   "metadata": {},
   "source": [
    "### orders"
   ]
  },
  {
   "cell_type": "code",
   "execution_count": 7,
   "id": "2af00f34-564b-4ffd-9b9c-cf9b2ccad34c",
   "metadata": {},
   "outputs": [
    {
     "name": "stdout",
     "output_type": "stream",
     "text": [
      "<class 'pandas.core.frame.DataFrame'>\n",
      "Index: 1191861 entries, 0 to 437216\n",
      "Data columns (total 38 columns):\n",
      " #   Column                   Non-Null Count    Dtype  \n",
      "---  ------                   --------------    -----  \n",
      " 0   id                       1191861 non-null  int32  \n",
      " 1   order_date               1191861 non-null  object \n",
      " 2   subject_id               1181529 non-null  float32\n",
      " 3   purpose                  1025351 non-null  object \n",
      " 4   lesson_price             1191861 non-null  int32  \n",
      " 5   lesson_duration          1191861 non-null  int32  \n",
      " 6   lesson_place             31 non-null       object \n",
      " 7   home_metro_id            642447 non-null   float32\n",
      " 8   add_info                 1044688 non-null  object \n",
      " 9   start_date               705578 non-null   object \n",
      " 10  working_teacher_id       705988 non-null   float32\n",
      " 11  status_id                1191861 non-null  int32  \n",
      " 12  comments                 341468 non-null   object \n",
      " 13  prefered_teacher_id      4 non-null        float32\n",
      " 14  amount_to_pay            1191861 non-null  object \n",
      " 15  planned_lesson_number    1191861 non-null  int32  \n",
      " 16  first_lesson_date        166571 non-null   object \n",
      " 17  creator_id               579698 non-null   float32\n",
      " 18  pupil_category_new_id    1032470 non-null  float32\n",
      " 19  lessons_per_week         1191861 non-null  int32  \n",
      " 20  minimal_price            1191861 non-null  int32  \n",
      " 21  teacher_sex              1191861 non-null  int32  \n",
      " 22  teacher_experience_from  1191861 non-null  int32  \n",
      " 23  teacher_experience_to    1191861 non-null  int32  \n",
      " 24  lesson_place_new         1191861 non-null  int32  \n",
      " 25  pupil_knowledgelvl       1191861 non-null  int32  \n",
      " 26  teacher_age_from         1191861 non-null  int32  \n",
      " 27  teacher_age_to           1191861 non-null  int32  \n",
      " 28  chosen_teachers_only     1191861 non-null  int8   \n",
      " 29  no_teachers_available    1191861 non-null  int8   \n",
      " 30  source_id                1191861 non-null  int32  \n",
      " 31  original_order_id        582588 non-null   float32\n",
      " 32  client_id                1191861 non-null  int32  \n",
      " 33  additional_status_id     1042385 non-null  float32\n",
      " 34  max_metro_distance       13518 non-null    float32\n",
      " 35  estimated_fee            747152 non-null   object \n",
      " 36  payment_date             129665 non-null   object \n",
      " 37  is_display_to_teachers   1191861 non-null  int8   \n",
      "dtypes: float32(9), int32(16), int8(3), object(10)\n",
      "memory usage: 217.1+ MB\n"
     ]
    }
   ],
   "source": [
    "orders.info()"
   ]
  },
  {
   "cell_type": "code",
   "execution_count": 9,
   "id": "236aeac5-93ce-4a27-8bb9-ee4ddb97cd12",
   "metadata": {},
   "outputs": [
    {
     "name": "stdout",
     "output_type": "stream",
     "text": [
      "Ошибка при обработке даты в столбце order_date: Out of bounds nanosecond timestamp: 0042-01-12 05:09:05.007, at position 105390. You might want to try:\n",
      "    - passing `format` if your strings have a consistent format;\n",
      "    - passing `format='ISO8601'` if your strings are all ISO8601 but not necessarily in exactly the same format;\n",
      "    - passing `format='mixed'`, and the format will be inferred for each element individually. You might want to use `dayfirst` alongside this.\n",
      "Ошибка при обработке даты в столбце start_date: Out of bounds nanosecond timestamp: 0042-01-12 05:09:05.007, at position 53398. You might want to try:\n",
      "    - passing `format` if your strings have a consistent format;\n",
      "    - passing `format='ISO8601'` if your strings are all ISO8601 but not necessarily in exactly the same format;\n",
      "    - passing `format='mixed'`, and the format will be inferred for each element individually. You might want to use `dayfirst` alongside this.\n",
      "Ошибка при обработке даты в столбце first_lesson_date: Out of bounds nanosecond timestamp: 0042-01-12 05:09:05.007, at position 128. You might want to try:\n",
      "    - passing `format` if your strings have a consistent format;\n",
      "    - passing `format='ISO8601'` if your strings are all ISO8601 but not necessarily in exactly the same format;\n",
      "    - passing `format='mixed'`, and the format will be inferred for each element individually. You might want to use `dayfirst` alongside this.\n",
      "Ошибка при обработке даты в столбце payment_date: Out of bounds nanosecond timestamp: 0042-01-12 05:09:05.007, at position 11431. You might want to try:\n",
      "    - passing `format` if your strings have a consistent format;\n",
      "    - passing `format='ISO8601'` if your strings are all ISO8601 but not necessarily in exactly the same format;\n",
      "    - passing `format='mixed'`, and the format will be inferred for each element individually. You might want to use `dayfirst` alongside this.\n",
      "<class 'pandas.core.frame.DataFrame'>\n",
      "RangeIndex: 1190961 entries, 0 to 1190960\n",
      "Data columns (total 32 columns):\n",
      " #   Column                   Non-Null Count    Dtype \n",
      "---  ------                   --------------    ----- \n",
      " 0   id                       1190961 non-null  int32 \n",
      " 1   order_date               1190961 non-null  object\n",
      " 2   subject_id               1190961 non-null  int64 \n",
      " 3   purpose                  1024538 non-null  object\n",
      " 4   lesson_price             1190961 non-null  int32 \n",
      " 5   lesson_duration          1190961 non-null  int32 \n",
      " 6   home_metro_id            1190961 non-null  int64 \n",
      " 7   add_info                 1043862 non-null  object\n",
      " 8   start_date               705101 non-null   object\n",
      " 9   working_teacher_id       1190961 non-null  int64 \n",
      " 10  status_id                1190961 non-null  int32 \n",
      " 11  amount_to_pay            1190961 non-null  object\n",
      " 12  planned_lesson_number    1190961 non-null  int32 \n",
      " 13  creator_id               1190961 non-null  int64 \n",
      " 14  pupil_category_new_id    1190961 non-null  int64 \n",
      " 15  lessons_per_week         1190961 non-null  int32 \n",
      " 16  minimal_price            1190961 non-null  int32 \n",
      " 17  teacher_sex              1190961 non-null  int32 \n",
      " 18  teacher_experience_from  1190961 non-null  int32 \n",
      " 19  teacher_experience_to    1190961 non-null  int32 \n",
      " 20  lesson_place_new         1190961 non-null  int32 \n",
      " 21  pupil_knowledgelvl       1190961 non-null  int32 \n",
      " 22  teacher_age_from         1190961 non-null  int32 \n",
      " 23  teacher_age_to           1190961 non-null  int32 \n",
      " 24  chosen_teachers_only     1190961 non-null  int8  \n",
      " 25  no_teachers_available    1190961 non-null  int8  \n",
      " 26  source_id                1190961 non-null  int32 \n",
      " 27  original_order_id        1190961 non-null  int64 \n",
      " 28  client_id                1190961 non-null  int32 \n",
      " 29  additional_status_id     1190961 non-null  int64 \n",
      " 30  estimated_fee            746639 non-null   object\n",
      " 31  is_display_to_teachers   1190961 non-null  int8  \n",
      "dtypes: int32(16), int64(7), int8(3), object(6)\n",
      "memory usage: 194.2+ MB\n"
     ]
    },
    {
     "data": {
      "text/html": [
       "<div>\n",
       "<style scoped>\n",
       "    .dataframe tbody tr th:only-of-type {\n",
       "        vertical-align: middle;\n",
       "    }\n",
       "\n",
       "    .dataframe tbody tr th {\n",
       "        vertical-align: top;\n",
       "    }\n",
       "\n",
       "    .dataframe thead th {\n",
       "        text-align: right;\n",
       "    }\n",
       "</style>\n",
       "<table border=\"1\" class=\"dataframe\">\n",
       "  <thead>\n",
       "    <tr style=\"text-align: right;\">\n",
       "      <th></th>\n",
       "      <th>id</th>\n",
       "      <th>order_date</th>\n",
       "      <th>subject_id</th>\n",
       "      <th>purpose</th>\n",
       "      <th>lesson_price</th>\n",
       "      <th>lesson_duration</th>\n",
       "      <th>home_metro_id</th>\n",
       "      <th>add_info</th>\n",
       "      <th>start_date</th>\n",
       "      <th>working_teacher_id</th>\n",
       "      <th>...</th>\n",
       "      <th>teacher_age_from</th>\n",
       "      <th>teacher_age_to</th>\n",
       "      <th>chosen_teachers_only</th>\n",
       "      <th>no_teachers_available</th>\n",
       "      <th>source_id</th>\n",
       "      <th>original_order_id</th>\n",
       "      <th>client_id</th>\n",
       "      <th>additional_status_id</th>\n",
       "      <th>estimated_fee</th>\n",
       "      <th>is_display_to_teachers</th>\n",
       "    </tr>\n",
       "  </thead>\n",
       "  <tbody>\n",
       "    <tr>\n",
       "      <th>0</th>\n",
       "      <td>2294054</td>\n",
       "      <td>2022-11-01 00:01:38.237</td>\n",
       "      <td>1</td>\n",
       "      <td>None</td>\n",
       "      <td>0</td>\n",
       "      <td>60</td>\n",
       "      <td>-1</td>\n",
       "      <td>None</td>\n",
       "      <td>None</td>\n",
       "      <td>-1</td>\n",
       "      <td>...</td>\n",
       "      <td>0</td>\n",
       "      <td>0</td>\n",
       "      <td>0</td>\n",
       "      <td>0</td>\n",
       "      <td>18</td>\n",
       "      <td>2294000</td>\n",
       "      <td>675960</td>\n",
       "      <td>7</td>\n",
       "      <td>None</td>\n",
       "      <td>1</td>\n",
       "    </tr>\n",
       "    <tr>\n",
       "      <th>1</th>\n",
       "      <td>2294055</td>\n",
       "      <td>2022-11-01 00:03:11.753</td>\n",
       "      <td>1</td>\n",
       "      <td>None</td>\n",
       "      <td>0</td>\n",
       "      <td>60</td>\n",
       "      <td>-1</td>\n",
       "      <td>None</td>\n",
       "      <td>None</td>\n",
       "      <td>-1</td>\n",
       "      <td>...</td>\n",
       "      <td>0</td>\n",
       "      <td>0</td>\n",
       "      <td>0</td>\n",
       "      <td>0</td>\n",
       "      <td>18</td>\n",
       "      <td>2294000</td>\n",
       "      <td>675960</td>\n",
       "      <td>7</td>\n",
       "      <td>None</td>\n",
       "      <td>1</td>\n",
       "    </tr>\n",
       "    <tr>\n",
       "      <th>2</th>\n",
       "      <td>2294056</td>\n",
       "      <td>2022-11-01 00:04:01.563</td>\n",
       "      <td>21</td>\n",
       "      <td>Разделы: начертательная геометрия.\\nКатегория ...</td>\n",
       "      <td>800</td>\n",
       "      <td>60</td>\n",
       "      <td>-1</td>\n",
       "      <td>Место проведения занятий: дистанционно (наприм...</td>\n",
       "      <td>2022-11-01 10:37:02.567</td>\n",
       "      <td>143480</td>\n",
       "      <td>...</td>\n",
       "      <td>0</td>\n",
       "      <td>0</td>\n",
       "      <td>0</td>\n",
       "      <td>0</td>\n",
       "      <td>23</td>\n",
       "      <td>-1</td>\n",
       "      <td>1024439</td>\n",
       "      <td>10</td>\n",
       "      <td>1200</td>\n",
       "      <td>1</td>\n",
       "    </tr>\n",
       "    <tr>\n",
       "      <th>3</th>\n",
       "      <td>2294057</td>\n",
       "      <td>2022-11-01 00:08:47.237</td>\n",
       "      <td>8</td>\n",
       "      <td>Разделы:  школьный курс.\\nКатегория ученика: ш...</td>\n",
       "      <td>700</td>\n",
       "      <td>60</td>\n",
       "      <td>-1</td>\n",
       "      <td>Место проведения занятий: дистанционно (наприм...</td>\n",
       "      <td>2022-11-01 00:08:47.437</td>\n",
       "      <td>236392</td>\n",
       "      <td>...</td>\n",
       "      <td>20</td>\n",
       "      <td>90</td>\n",
       "      <td>0</td>\n",
       "      <td>0</td>\n",
       "      <td>14</td>\n",
       "      <td>2293804</td>\n",
       "      <td>1024340</td>\n",
       "      <td>17</td>\n",
       "      <td>2310</td>\n",
       "      <td>1</td>\n",
       "    </tr>\n",
       "    <tr>\n",
       "      <th>4</th>\n",
       "      <td>2294058</td>\n",
       "      <td>2022-11-01 00:11:49.417</td>\n",
       "      <td>8</td>\n",
       "      <td>None</td>\n",
       "      <td>0</td>\n",
       "      <td>60</td>\n",
       "      <td>122</td>\n",
       "      <td>None</td>\n",
       "      <td>None</td>\n",
       "      <td>-1</td>\n",
       "      <td>...</td>\n",
       "      <td>0</td>\n",
       "      <td>0</td>\n",
       "      <td>0</td>\n",
       "      <td>0</td>\n",
       "      <td>16</td>\n",
       "      <td>-1</td>\n",
       "      <td>1024440</td>\n",
       "      <td>5</td>\n",
       "      <td>None</td>\n",
       "      <td>1</td>\n",
       "    </tr>\n",
       "  </tbody>\n",
       "</table>\n",
       "<p>5 rows × 32 columns</p>\n",
       "</div>"
      ],
      "text/plain": [
       "        id               order_date  subject_id  \\\n",
       "0  2294054  2022-11-01 00:01:38.237           1   \n",
       "1  2294055  2022-11-01 00:03:11.753           1   \n",
       "2  2294056  2022-11-01 00:04:01.563          21   \n",
       "3  2294057  2022-11-01 00:08:47.237           8   \n",
       "4  2294058  2022-11-01 00:11:49.417           8   \n",
       "\n",
       "                                             purpose  lesson_price  \\\n",
       "0                                               None             0   \n",
       "1                                               None             0   \n",
       "2  Разделы: начертательная геометрия.\\nКатегория ...           800   \n",
       "3  Разделы:  школьный курс.\\nКатегория ученика: ш...           700   \n",
       "4                                               None             0   \n",
       "\n",
       "   lesson_duration  home_metro_id  \\\n",
       "0               60             -1   \n",
       "1               60             -1   \n",
       "2               60             -1   \n",
       "3               60             -1   \n",
       "4               60            122   \n",
       "\n",
       "                                            add_info               start_date  \\\n",
       "0                                               None                     None   \n",
       "1                                               None                     None   \n",
       "2  Место проведения занятий: дистанционно (наприм...  2022-11-01 10:37:02.567   \n",
       "3  Место проведения занятий: дистанционно (наприм...  2022-11-01 00:08:47.437   \n",
       "4                                               None                     None   \n",
       "\n",
       "   working_teacher_id  ...  teacher_age_from teacher_age_to  \\\n",
       "0                  -1  ...                 0              0   \n",
       "1                  -1  ...                 0              0   \n",
       "2              143480  ...                 0              0   \n",
       "3              236392  ...                20             90   \n",
       "4                  -1  ...                 0              0   \n",
       "\n",
       "   chosen_teachers_only  no_teachers_available  source_id  original_order_id  \\\n",
       "0                     0                      0         18            2294000   \n",
       "1                     0                      0         18            2294000   \n",
       "2                     0                      0         23                 -1   \n",
       "3                     0                      0         14            2293804   \n",
       "4                     0                      0         16                 -1   \n",
       "\n",
       "   client_id  additional_status_id  estimated_fee  is_display_to_teachers  \n",
       "0     675960                     7           None                       1  \n",
       "1     675960                     7           None                       1  \n",
       "2    1024439                    10           1200                       1  \n",
       "3    1024340                    17           2310                       1  \n",
       "4    1024440                     5           None                       1  \n",
       "\n",
       "[5 rows x 32 columns]"
      ]
     },
     "metadata": {},
     "output_type": "display_data"
    }
   ],
   "source": [
    "orders = explorer_orders.data_preprocessing(\n",
    "    dropnas=False,\n",
    "    date_features = ['order_date',\n",
    "                     'start_date',\n",
    "                     'first_lesson_date',\n",
    "                     'payment_date'],\n",
    "    int_features = ['subject_id',\n",
    "                    'home_metro_id',\n",
    "                    'working_teacher_id',\n",
    "                    'creator_id',\n",
    "                    'pupil_category_new_id',\n",
    "                    'original_order_id',\n",
    "                    'additional_status_id'],\n",
    "    drop_features = ['lesson_place',\n",
    "                     'comments',\n",
    "                     'prefered_teacher_id',\n",
    "                     'first_lesson_date',\n",
    "                     'max_metro_distance',\n",
    "                     'payment_date']\n",
    ")"
   ]
  },
  {
   "cell_type": "markdown",
   "id": "d2e46313-bbd2-4427-9bdd-c20f7ca53e82",
   "metadata": {},
   "source": [
    "#### Выводы и заключения\n",
    "- удалены дубликаты;\n",
    "- удалены неинформативные признаки;\n",
    "- изменены типы данных"
   ]
  },
  {
   "cell_type": "markdown",
   "id": "163afafd-d3c8-4cd5-870c-75074248490b",
   "metadata": {},
   "source": [
    "### Объединение датафреймов"
   ]
  },
  {
   "cell_type": "code",
   "execution_count": null,
   "id": "d08c07c8-438b-46dc-8c11-5ac2e5ac065d",
   "metadata": {},
   "outputs": [],
   "source": []
  },
  {
   "cell_type": "markdown",
   "id": "faa6331b-fc58-4e76-b11c-ef85d50bfe4e",
   "metadata": {
    "id": "faa6331b-fc58-4e76-b11c-ef85d50bfe4e"
   },
   "source": [
    "## EDA"
   ]
  },
  {
   "cell_type": "code",
   "execution_count": null,
   "id": "8b29d14d-7d15-44af-8331-84cbee015aaa",
   "metadata": {},
   "outputs": [],
   "source": []
  },
  {
   "cell_type": "code",
   "execution_count": null,
   "id": "76a6b5d9-2e0c-485f-8e70-a9d0b6bc259a",
   "metadata": {
    "id": "76a6b5d9-2e0c-485f-8e70-a9d0b6bc259a"
   },
   "outputs": [],
   "source": []
  },
  {
   "cell_type": "code",
   "execution_count": null,
   "id": "1a1a935f-9fad-4f90-bb31-be6d6bb6045b",
   "metadata": {
    "id": "1a1a935f-9fad-4f90-bb31-be6d6bb6045b"
   },
   "outputs": [],
   "source": []
  },
  {
   "cell_type": "code",
   "execution_count": null,
   "id": "d27fd32e-b9b7-42a1-b34b-63cc9c021930",
   "metadata": {
    "id": "d27fd32e-b9b7-42a1-b34b-63cc9c021930"
   },
   "outputs": [],
   "source": []
  },
  {
   "cell_type": "code",
   "execution_count": null,
   "id": "db1d23d7-cdda-43bf-b115-f37cb86fa987",
   "metadata": {
    "id": "db1d23d7-cdda-43bf-b115-f37cb86fa987"
   },
   "outputs": [],
   "source": []
  },
  {
   "cell_type": "code",
   "execution_count": null,
   "id": "831edcab-d90a-47ab-9323-eb66c6dcb8c6",
   "metadata": {
    "id": "831edcab-d90a-47ab-9323-eb66c6dcb8c6"
   },
   "outputs": [],
   "source": []
  },
  {
   "cell_type": "code",
   "execution_count": null,
   "id": "ef9f7451-5ce5-4531-831b-287175fb2e97",
   "metadata": {
    "id": "ef9f7451-5ce5-4531-831b-287175fb2e97"
   },
   "outputs": [],
   "source": []
  },
  {
   "cell_type": "code",
   "execution_count": null,
   "id": "a4c6449f-d1c0-427d-91ef-05256d8d11cd",
   "metadata": {
    "id": "a4c6449f-d1c0-427d-91ef-05256d8d11cd"
   },
   "outputs": [],
   "source": []
  },
  {
   "cell_type": "markdown",
   "id": "d9d4a3ec-4cfa-49bb-8cc4-8a0b6f7610db",
   "metadata": {
    "id": "d9d4a3ec-4cfa-49bb-8cc4-8a0b6f7610db"
   },
   "source": [
    "## Разработка новых признаков"
   ]
  },
  {
   "cell_type": "markdown",
   "id": "8f32a285-a81e-4ccd-97c0-9792879c6b4b",
   "metadata": {},
   "source": [
    "Объединение датафреймов"
   ]
  },
  {
   "cell_type": "code",
   "execution_count": null,
   "id": "23ff3475-788f-42f2-8c42-2a94882486f0",
   "metadata": {
    "id": "23ff3475-788f-42f2-8c42-2a94882486f0"
   },
   "outputs": [],
   "source": [
    "#Правильный мёрдж таблиц\n",
    "# merged_df = pd.merge(lesson_course, lessons, left_on='id', right_on='lesson_course_id', how='inner')"
   ]
  },
  {
   "cell_type": "markdown",
   "id": "72a14ab0-7c0f-4b56-9101-8c5ff95cc191",
   "metadata": {
    "id": "72a14ab0-7c0f-4b56-9101-8c5ff95cc191"
   },
   "source": [
    "Отбор финального набора признаков для обучения"
   ]
  },
  {
   "cell_type": "code",
   "execution_count": null,
   "id": "6cd34bab-23d8-4944-acb9-42ef69ee75b4",
   "metadata": {
    "id": "6cd34bab-23d8-4944-acb9-42ef69ee75b4"
   },
   "outputs": [],
   "source": []
  },
  {
   "cell_type": "markdown",
   "id": "e671bd54-21cb-4b2b-96b4-2c4ee5467cbb",
   "metadata": {
    "id": "e671bd54-21cb-4b2b-96b4-2c4ee5467cbb"
   },
   "source": [
    "## Обучение моделей"
   ]
  },
  {
   "cell_type": "code",
   "execution_count": null,
   "id": "4b6bd04a-5702-4f68-8e21-31240807be84",
   "metadata": {
    "id": "4b6bd04a-5702-4f68-8e21-31240807be84"
   },
   "outputs": [],
   "source": []
  },
  {
   "cell_type": "markdown",
   "id": "b3947090-a328-4ed5-9753-dcf5b6c87e4f",
   "metadata": {
    "id": "b3947090-a328-4ed5-9753-dcf5b6c87e4f"
   },
   "source": [
    "## Оценка качества предсказания лучшей модели"
   ]
  },
  {
   "cell_type": "code",
   "execution_count": null,
   "id": "da11078e-726d-405a-8776-e11e54c2cf0d",
   "metadata": {
    "id": "da11078e-726d-405a-8776-e11e54c2cf0d"
   },
   "outputs": [],
   "source": []
  },
  {
   "cell_type": "markdown",
   "id": "bc2969b0-68f9-4db4-8eaf-1bbd6bdf4871",
   "metadata": {
    "id": "bc2969b0-68f9-4db4-8eaf-1bbd6bdf4871"
   },
   "source": [
    "Анализ важности признаков"
   ]
  },
  {
   "cell_type": "code",
   "execution_count": null,
   "id": "a16ba143-942f-4d80-bdf2-af70bddce651",
   "metadata": {
    "id": "a16ba143-942f-4d80-bdf2-af70bddce651"
   },
   "outputs": [],
   "source": []
  },
  {
   "cell_type": "markdown",
   "id": "c57a43ff-6c55-4959-b7aa-db37966d682b",
   "metadata": {
    "id": "c57a43ff-6c55-4959-b7aa-db37966d682b"
   },
   "source": [
    "## Заключение\n",
    "Отчёт по выполненным в ходе исследования шагам"
   ]
  },
  {
   "cell_type": "code",
   "execution_count": null,
   "id": "5a48f347-f056-40f6-b868-312740e94b26",
   "metadata": {
    "id": "5a48f347-f056-40f6-b868-312740e94b26"
   },
   "outputs": [],
   "source": []
  },
  {
   "cell_type": "markdown",
   "id": "103cc62b-bffa-4be8-8809-3d614586b72a",
   "metadata": {
    "id": "103cc62b-bffa-4be8-8809-3d614586b72a"
   },
   "source": [
    "Сохранение зависимостей"
   ]
  },
  {
   "cell_type": "code",
   "execution_count": null,
   "id": "a9f13dac-fce1-4538-8b59-30ada2804538",
   "metadata": {
    "id": "a9f13dac-fce1-4538-8b59-30ada2804538"
   },
   "outputs": [],
   "source": [
    "# !pip freeze > requirements.txt"
   ]
  }
 ],
 "metadata": {
  "colab": {
   "provenance": [],
   "toc_visible": true
  },
  "kernelspec": {
   "display_name": "Python 3 (ipykernel)",
   "language": "python",
   "name": "python3"
  },
  "language_info": {
   "codemirror_mode": {
    "name": "ipython",
    "version": 3
   },
   "file_extension": ".py",
   "mimetype": "text/x-python",
   "name": "python",
   "nbconvert_exporter": "python",
   "pygments_lexer": "ipython3",
   "version": "3.10.12"
  }
 },
 "nbformat": 4,
 "nbformat_minor": 5
}
